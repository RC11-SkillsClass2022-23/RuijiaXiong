{
  "cells": [
    {
      "cell_type": "markdown",
      "metadata": {
        "id": "view-in-github",
        "colab_type": "text"
      },
      "source": [
        "<a href=\"https://colab.research.google.com/github/RC11-SkillsClass2022-23/RuijiaXiong/blob/main/MultipleFeatures.ipynb\" target=\"_parent\"><img src=\"https://colab.research.google.com/assets/colab-badge.svg\" alt=\"Open In Colab\"/></a>"
      ]
    },
    {
      "cell_type": "code",
      "execution_count": null,
      "metadata": {
        "colab": {
          "base_uri": "https://localhost:8080/"
        },
        "id": "O0lHrDXNqeZK",
        "outputId": "2d333d9b-747c-4f43-bafc-a2c9956bd6b6"
      },
      "outputs": [
        {
          "name": "stdout",
          "output_type": "stream",
          "text": [
            "Looking in indexes: https://pypi.org/simple, https://us-python.pkg.dev/colab-wheels/public/simple/\n",
            "Requirement already satisfied: moviepy in /usr/local/lib/python3.8/dist-packages (0.2.3.5)\n",
            "Collecting moviepy\n",
            "  Downloading moviepy-1.0.3.tar.gz (388 kB)\n",
            "\u001b[K     |████████████████████████████████| 388 kB 1.1 MB/s \n",
            "\u001b[?25hRequirement already satisfied: decorator<5.0,>=4.0.2 in /usr/local/lib/python3.8/dist-packages (from moviepy) (4.4.2)\n",
            "Requirement already satisfied: tqdm<5.0,>=4.11.2 in /usr/local/lib/python3.8/dist-packages (from moviepy) (4.64.1)\n",
            "Requirement already satisfied: requests<3.0,>=2.8.1 in /usr/local/lib/python3.8/dist-packages (from moviepy) (2.23.0)\n",
            "Collecting proglog<=1.0.0\n",
            "  Downloading proglog-0.1.10-py3-none-any.whl (6.1 kB)\n",
            "Requirement already satisfied: numpy>=1.17.3 in /usr/local/lib/python3.8/dist-packages (from moviepy) (1.21.6)\n",
            "Requirement already satisfied: imageio<3.0,>=2.5 in /usr/local/lib/python3.8/dist-packages (from moviepy) (2.9.0)\n",
            "Collecting imageio_ffmpeg>=0.2.0\n",
            "  Downloading imageio_ffmpeg-0.4.7-py3-none-manylinux2010_x86_64.whl (26.9 MB)\n",
            "\u001b[K     |████████████████████████████████| 26.9 MB 1.4 MB/s \n",
            "\u001b[?25hRequirement already satisfied: pillow in /usr/local/lib/python3.8/dist-packages (from imageio<3.0,>=2.5->moviepy) (7.1.2)\n",
            "Requirement already satisfied: certifi>=2017.4.17 in /usr/local/lib/python3.8/dist-packages (from requests<3.0,>=2.8.1->moviepy) (2022.9.24)\n",
            "Requirement already satisfied: idna<3,>=2.5 in /usr/local/lib/python3.8/dist-packages (from requests<3.0,>=2.8.1->moviepy) (2.10)\n",
            "Requirement already satisfied: chardet<4,>=3.0.2 in /usr/local/lib/python3.8/dist-packages (from requests<3.0,>=2.8.1->moviepy) (3.0.4)\n",
            "Requirement already satisfied: urllib3!=1.25.0,!=1.25.1,<1.26,>=1.21.1 in /usr/local/lib/python3.8/dist-packages (from requests<3.0,>=2.8.1->moviepy) (1.24.3)\n",
            "Building wheels for collected packages: moviepy\n",
            "  Building wheel for moviepy (setup.py) ... \u001b[?25l\u001b[?25hdone\n",
            "  Created wheel for moviepy: filename=moviepy-1.0.3-py3-none-any.whl size=110742 sha256=c0ab49d1ff176d20ff29620bcfc7ba5c410ddc8409391ea3de6adb8beda2e129\n",
            "  Stored in directory: /root/.cache/pip/wheels/e4/a4/db/0368d3a04033da662e13926594b3a8cf1aa4ffeefe570cfac1\n",
            "Successfully built moviepy\n",
            "Installing collected packages: proglog, imageio-ffmpeg, moviepy\n",
            "  Attempting uninstall: moviepy\n",
            "    Found existing installation: moviepy 0.2.3.5\n",
            "    Uninstalling moviepy-0.2.3.5:\n",
            "      Successfully uninstalled moviepy-0.2.3.5\n",
            "Successfully installed imageio-ffmpeg-0.4.7 moviepy-1.0.3 proglog-0.1.10\n"
          ]
        }
      ],
      "source": [
        "!pip install --upgrade moviepy"
      ]
    },
    {
      "cell_type": "code",
      "execution_count": null,
      "metadata": {
        "colab": {
          "base_uri": "https://localhost:8080/"
        },
        "id": "XU9MTWuosOsJ",
        "outputId": "c96823fb-50dd-4597-d02c-12ebdf27716a"
      },
      "outputs": [
        {
          "name": "stdout",
          "output_type": "stream",
          "text": [
            "Cloning into 'video-classification-3d-cnn-pytorch'...\n",
            "remote: Enumerating objects: 121, done.\u001b[K\n",
            "remote: Total 121 (delta 0), reused 0 (delta 0), pack-reused 121\u001b[K\n",
            "Receiving objects: 100% (121/121), 158.63 KiB | 907.00 KiB/s, done.\n",
            "Resolving deltas: 100% (63/63), done.\n"
          ]
        }
      ],
      "source": [
        "! git clone https://github.com/kenshohara/video-classification-3d-cnn-pytorch.git"
      ]
    },
    {
      "cell_type": "code",
      "execution_count": null,
      "metadata": {
        "colab": {
          "base_uri": "https://localhost:8080/"
        },
        "id": "HmK9ABz6sRbo",
        "outputId": "cab0049d-ab0d-43c9-b66f-33a14ec9e61f"
      },
      "outputs": [
        {
          "name": "stdout",
          "output_type": "stream",
          "text": [
            "/content/video-classification-3d-cnn-pytorch\n",
            "/content/video-classification-3d-cnn-pytorch\n"
          ]
        }
      ],
      "source": [
        "%cd video-classification-3d-cnn-pytorch/\n",
        "!pwd"
      ]
    },
    {
      "cell_type": "code",
      "execution_count": null,
      "metadata": {
        "id": "vPtPzzXlsTvN"
      },
      "outputs": [],
      "source": [
        "import json\n",
        "import os\n",
        "from moviepy.editor import *\n",
        "from moviepy import *\n",
        "import numpy as np"
      ]
    },
    {
      "cell_type": "code",
      "execution_count": null,
      "metadata": {
        "id": "mCg4U2KwsXEG"
      },
      "outputs": [],
      "source": [
        "def BestRS(x,y):\n",
        "  bestRangeStart = 0\n",
        "  bestRangeScore = 100000000\n",
        "  for i in range(len(x)-len(y)):\n",
        "    distance = 0\n",
        "    for j in range(len(y)):\n",
        "      d = np.linalg.norm(MyVideos[i+j]-MyFeatures[j])\n",
        "      distance += d\n",
        "    if distance < bestRangeScore:\n",
        "      bestRangeScore = distance\n",
        "      bestRangeStart = i\n",
        "\n",
        "  return bestRangeStart"
      ]
    },
    {
      "cell_type": "code",
      "execution_count": null,
      "metadata": {
        "id": "y_Ue8zkZseZI"
      },
      "outputs": [],
      "source": [
        "inputFeature = os.listdir('/content/drive/MyDrive/RC11SkillClass2022/VideosToProcess')\n",
        "\n",
        "with open('input', 'w') as inputfile:\n",
        "  for v in inputFeature:\n",
        "    if v.split('.')[-1] == 'mp4':\n",
        "      inputfile.write(v+'\\n')"
      ]
    },
    {
      "cell_type": "code",
      "execution_count": null,
      "metadata": {
        "colab": {
          "base_uri": "https://localhost:8080/"
        },
        "id": "wbZZDs3mus8m",
        "outputId": "b38b11d0-4bb7-41e1-bbcf-d8df2ee2d2b1"
      },
      "outputs": [
        {
          "name": "stdout",
          "output_type": "stream",
          "text": [
            "loading model /content/drive/MyDrive/RC11SkillClass2022/resnet-34-kinetics-cpu.pth\n",
            "/content/drive/MyDrive/RC11SkillClass2022/VideosToProcess/feature2.mp4\n",
            "ffmpeg version 3.4.11-0ubuntu0.1 Copyright (c) 2000-2022 the FFmpeg developers\n",
            "  built with gcc 7 (Ubuntu 7.5.0-3ubuntu1~18.04)\n",
            "  configuration: --prefix=/usr --extra-version=0ubuntu0.1 --toolchain=hardened --libdir=/usr/lib/x86_64-linux-gnu --incdir=/usr/include/x86_64-linux-gnu --enable-gpl --disable-stripping --enable-avresample --enable-avisynth --enable-gnutls --enable-ladspa --enable-libass --enable-libbluray --enable-libbs2b --enable-libcaca --enable-libcdio --enable-libflite --enable-libfontconfig --enable-libfreetype --enable-libfribidi --enable-libgme --enable-libgsm --enable-libmp3lame --enable-libmysofa --enable-libopenjpeg --enable-libopenmpt --enable-libopus --enable-libpulse --enable-librubberband --enable-librsvg --enable-libshine --enable-libsnappy --enable-libsoxr --enable-libspeex --enable-libssh --enable-libtheora --enable-libtwolame --enable-libvorbis --enable-libvpx --enable-libwavpack --enable-libwebp --enable-libx265 --enable-libxml2 --enable-libxvid --enable-libzmq --enable-libzvbi --enable-omx --enable-openal --enable-opengl --enable-sdl2 --enable-libdc1394 --enable-libdrm --enable-libiec61883 --enable-chromaprint --enable-frei0r --enable-libopencv --enable-libx264 --enable-shared\n",
            "  libavutil      55. 78.100 / 55. 78.100\n",
            "  libavcodec     57.107.100 / 57.107.100\n",
            "  libavformat    57. 83.100 / 57. 83.100\n",
            "  libavdevice    57. 10.100 / 57. 10.100\n",
            "  libavfilter     6.107.100 /  6.107.100\n",
            "  libavresample   3.  7.  0 /  3.  7.  0\n",
            "  libswscale      4.  8.100 /  4.  8.100\n",
            "  libswresample   2.  9.100 /  2.  9.100\n",
            "  libpostproc    54.  7.100 / 54.  7.100\n",
            "Input #0, mov,mp4,m4a,3gp,3g2,mj2, from '/content/drive/MyDrive/RC11SkillClass2022/VideosToProcess/feature2.mp4':\n",
            "  Metadata:\n",
            "    major_brand     : isom\n",
            "    minor_version   : 512\n",
            "    compatible_brands: isomiso2avc1mp41\n",
            "    encoder         : Lavf58.29.100\n",
            "  Duration: 00:00:04.29, start: 0.000000, bitrate: 4317 kb/s\n",
            "    Stream #0:0(und): Video: h264 (High) (avc1 / 0x31637661), yuv420p, 1920x1080, 4200 kb/s, 30 fps, 30 tbr, 15360 tbn, 60 tbc (default)\n",
            "    Metadata:\n",
            "      handler_name    : VideoHandler\n",
            "    Stream #0:1(und): Audio: aac (LC) (mp4a / 0x6134706D), 44100 Hz, stereo, fltp, 128 kb/s (default)\n",
            "    Metadata:\n",
            "      handler_name    : SoundHandler\n",
            "Stream mapping:\n",
            "  Stream #0:0 -> #0:0 (h264 (native) -> mjpeg (native))\n",
            "Press [q] to stop, [?] for help\n",
            "\u001b[1;34m[swscaler @ 0x55b0d05b2000] \u001b[0m\u001b[0;33mdeprecated pixel format used, make sure you did set range correctly\n",
            "\u001b[0mOutput #0, image2, to 'tmp/image_%05d.jpg':\n",
            "  Metadata:\n",
            "    major_brand     : isom\n",
            "    minor_version   : 512\n",
            "    compatible_brands: isomiso2avc1mp41\n",
            "    encoder         : Lavf57.83.100\n",
            "    Stream #0:0(und): Video: mjpeg, yuvj420p(pc), 1920x1080, q=2-31, 200 kb/s, 30 fps, 30 tbn, 30 tbc (default)\n",
            "    Metadata:\n",
            "      handler_name    : VideoHandler\n",
            "      encoder         : Lavc57.107.100 mjpeg\n",
            "    Side data:\n",
            "      cpb: bitrate max/min/avg: 0/0/200000 buffer size: 0 vbv_delay: -1\n",
            "frame=  128 fps= 43 q=24.8 Lsize=N/A time=00:00:04.26 bitrate=N/A speed=1.44x    \n",
            "video:7911kB audio:0kB subtitle:0kB other streams:0kB global headers:0kB muxing overhead: unknown\n",
            "/usr/local/lib/python3.8/dist-packages/torch/utils/data/dataloader.py:563: UserWarning: This DataLoader will create 4 worker processes in total. Our suggested max number of worker in current system is 2, which is smaller than what this DataLoader is going to create. Please be aware that excessive worker creation might get DataLoader running slow or even freeze, lower the worker number to avoid potential slowness/freeze if necessary.\n",
            "  warnings.warn(_create_warning_msg(\n",
            "/content/video-classification-3d-cnn-pytorch/classify.py:25: UserWarning: volatile was removed and now has no effect. Use `with torch.no_grad():` instead.\n",
            "  inputs = Variable(inputs, volatile=True)\n",
            "/content/drive/MyDrive/RC11SkillClass2022/VideosToProcess/feature1.mp4\n",
            "ffmpeg version 3.4.11-0ubuntu0.1 Copyright (c) 2000-2022 the FFmpeg developers\n",
            "  built with gcc 7 (Ubuntu 7.5.0-3ubuntu1~18.04)\n",
            "  configuration: --prefix=/usr --extra-version=0ubuntu0.1 --toolchain=hardened --libdir=/usr/lib/x86_64-linux-gnu --incdir=/usr/include/x86_64-linux-gnu --enable-gpl --disable-stripping --enable-avresample --enable-avisynth --enable-gnutls --enable-ladspa --enable-libass --enable-libbluray --enable-libbs2b --enable-libcaca --enable-libcdio --enable-libflite --enable-libfontconfig --enable-libfreetype --enable-libfribidi --enable-libgme --enable-libgsm --enable-libmp3lame --enable-libmysofa --enable-libopenjpeg --enable-libopenmpt --enable-libopus --enable-libpulse --enable-librubberband --enable-librsvg --enable-libshine --enable-libsnappy --enable-libsoxr --enable-libspeex --enable-libssh --enable-libtheora --enable-libtwolame --enable-libvorbis --enable-libvpx --enable-libwavpack --enable-libwebp --enable-libx265 --enable-libxml2 --enable-libxvid --enable-libzmq --enable-libzvbi --enable-omx --enable-openal --enable-opengl --enable-sdl2 --enable-libdc1394 --enable-libdrm --enable-libiec61883 --enable-chromaprint --enable-frei0r --enable-libopencv --enable-libx264 --enable-shared\n",
            "  libavutil      55. 78.100 / 55. 78.100\n",
            "  libavcodec     57.107.100 / 57.107.100\n",
            "  libavformat    57. 83.100 / 57. 83.100\n",
            "  libavdevice    57. 10.100 / 57. 10.100\n",
            "  libavfilter     6.107.100 /  6.107.100\n",
            "  libavresample   3.  7.  0 /  3.  7.  0\n",
            "  libswscale      4.  8.100 /  4.  8.100\n",
            "  libswresample   2.  9.100 /  2.  9.100\n",
            "  libpostproc    54.  7.100 / 54.  7.100\n",
            "Input #0, mov,mp4,m4a,3gp,3g2,mj2, from '/content/drive/MyDrive/RC11SkillClass2022/VideosToProcess/feature1.mp4':\n",
            "  Metadata:\n",
            "    major_brand     : isom\n",
            "    minor_version   : 512\n",
            "    compatible_brands: isomiso2avc1mp41\n",
            "    creation_time   : 2022-12-06T13:41:06.000000Z\n",
            "    Hw              : 1\n",
            "                    : \n",
            "    bitRate         : 3600000\n",
            "                    : \n",
            "    com.apple.quicktime.artwork: {\"data\":{\"edittime\":64,\"infoStickerId\":\"\",\"musicId\":\"\",\"os\":\"windows\",\"product\":\"lv\",\"stickerId\":\"\",\"videoEffectId\":\"\",\"videoId\":\"3c339d01-e02a-407d-88d6-aac4d51086a2\",\"videoParams\":{\"be\":0,\"ef\":0,\"ft\":0,\"ma\":0,\"me\":0,\"mu\":0,\"re\":0,\"sp\":0,\"st\":0,\"te\":0,\"t\n",
            "    maxrate         : 3600000\n",
            "                    : \n",
            "    te_is_reencode  : 1\n",
            "                    : \n",
            "    encoder         : Lavf58.76.100\n",
            "  Duration: 00:00:01.97, start: 0.000000, bitrate: 5424 kb/s\n",
            "    Stream #0:0(und): Video: h264 (Main) (avc1 / 0x31637661), yuv420p(tv, smpte170m), 854x480 [SAR 1:1 DAR 427:240], 5518 kb/s, 30.52 fps, 30 tbr, 15360 tbn, 60 tbc (default)\n",
            "    Metadata:\n",
            "      creation_time   : 2022-12-06T13:41:06.000000Z\n",
            "      handler_name    : VideoHandler\n",
            "    Stream #0:1(und): Audio: aac (LC) (mp4a / 0x6134706D), 44100 Hz, stereo, fltp, 2 kb/s (default)\n",
            "    Metadata:\n",
            "      creation_time   : 2022-12-06T13:41:06.000000Z\n",
            "      handler_name    : SoundHandler\n",
            "Stream mapping:\n",
            "  Stream #0:0 -> #0:0 (h264 (native) -> mjpeg (native))\n",
            "Press [q] to stop, [?] for help\n",
            "\u001b[1;34m[swscaler @ 0x562dcb6c0000] \u001b[0m\u001b[0;33mdeprecated pixel format used, make sure you did set range correctly\n",
            "\u001b[0mOutput #0, image2, to 'tmp/image_%05d.jpg':\n",
            "  Metadata:\n",
            "    major_brand     : isom\n",
            "    minor_version   : 512\n",
            "    compatible_brands: isomiso2avc1mp41\n",
            "    te_is_reencode  : 1\n",
            "                    : \n",
            "    Hw              : 1\n",
            "                    : \n",
            "    bitRate         : 3600000\n",
            "                    : \n",
            "    com.apple.quicktime.artwork: {\"data\":{\"edittime\":64,\"infoStickerId\":\"\",\"musicId\":\"\",\"os\":\"windows\",\"product\":\"lv\",\"stickerId\":\"\",\"videoEffectId\":\"\",\"videoId\":\"3c339d01-e02a-407d-88d6-aac4d51086a2\",\"videoParams\":{\"be\":0,\"ef\":0,\"ft\":0,\"ma\":0,\"me\":0,\"mu\":0,\"re\":0,\"sp\":0,\"st\":0,\"te\":0,\"t\n",
            "    maxrate         : 3600000\n",
            "                    : \n",
            "    encoder         : Lavf57.83.100\n",
            "    Stream #0:0(und): Video: mjpeg, yuvj420p(pc), 854x480 [SAR 1:1 DAR 427:240], q=2-31, 200 kb/s, 30 fps, 30 tbn, 30 tbc (default)\n",
            "    Metadata:\n",
            "      creation_time   : 2022-12-06T13:41:06.000000Z\n",
            "      handler_name    : VideoHandler\n",
            "      encoder         : Lavc57.107.100 mjpeg\n",
            "    Side data:\n",
            "      cpb: bitrate max/min/avg: 0/0/200000 buffer size: 0 vbv_delay: -1\n",
            "frame=   59 fps=0.0 q=24.8 Lsize=N/A time=00:00:01.96 bitrate=N/A speed=4.97x    \n",
            "video:869kB audio:0kB subtitle:0kB other streams:0kB global headers:0kB muxing overhead: unknown\n"
          ]
        }
      ],
      "source": [
        "!python main.py --input input --video_root /content/drive/MyDrive/RC11SkillClass2022/VideosToProcess --output /content/drive/MyDrive/RC11SkillClass2022/output.json --model /content/drive/MyDrive/RC11SkillClass2022/resnet-34-kinetics-cpu.pth --model_depth 34 --mode feature --resnet_shortcut A --no_cuda"
      ]
    },
    {
      "cell_type": "code",
      "execution_count": null,
      "metadata": {
        "id": "2709z3Bfv7U6"
      },
      "outputs": [],
      "source": [
        "#input original videos"
      ]
    },
    {
      "cell_type": "code",
      "execution_count": null,
      "metadata": {
        "id": "VDAjvzNlwt_B"
      },
      "outputs": [],
      "source": [
        "videos_root = '/content/drive/MyDrive/RC11SkillClass2022/OtherVideos'"
      ]
    },
    {
      "cell_type": "code",
      "execution_count": null,
      "metadata": {
        "id": "pe0eKWjLw-bj"
      },
      "outputs": [],
      "source": [
        "inputOthervideos = os.listdir(videos_root)\n",
        "\n",
        "with open('input_othervideos', 'w') as inputfile2:\n",
        "  for v in inputOthervideos:\n",
        "    if v.split('.')[-1] == 'mp4':\n",
        "      inputfile2.write(v+'\\n')"
      ]
    },
    {
      "cell_type": "code",
      "execution_count": null,
      "metadata": {
        "colab": {
          "base_uri": "https://localhost:8080/"
        },
        "id": "i01WDxpfxIzK",
        "outputId": "4f537e5e-7273-40e8-ce46-84b4b4852bb3"
      },
      "outputs": [
        {
          "name": "stdout",
          "output_type": "stream",
          "text": [
            "loading model /content/drive/MyDrive/RC11SkillClass2022/resnet-34-kinetics-cpu.pth\n",
            "/content/drive/MyDrive/RC11SkillClass2022/OtherVideos/12.3clip3.mp4\n",
            "ffmpeg version 3.4.11-0ubuntu0.1 Copyright (c) 2000-2022 the FFmpeg developers\n",
            "  built with gcc 7 (Ubuntu 7.5.0-3ubuntu1~18.04)\n",
            "  configuration: --prefix=/usr --extra-version=0ubuntu0.1 --toolchain=hardened --libdir=/usr/lib/x86_64-linux-gnu --incdir=/usr/include/x86_64-linux-gnu --enable-gpl --disable-stripping --enable-avresample --enable-avisynth --enable-gnutls --enable-ladspa --enable-libass --enable-libbluray --enable-libbs2b --enable-libcaca --enable-libcdio --enable-libflite --enable-libfontconfig --enable-libfreetype --enable-libfribidi --enable-libgme --enable-libgsm --enable-libmp3lame --enable-libmysofa --enable-libopenjpeg --enable-libopenmpt --enable-libopus --enable-libpulse --enable-librubberband --enable-librsvg --enable-libshine --enable-libsnappy --enable-libsoxr --enable-libspeex --enable-libssh --enable-libtheora --enable-libtwolame --enable-libvorbis --enable-libvpx --enable-libwavpack --enable-libwebp --enable-libx265 --enable-libxml2 --enable-libxvid --enable-libzmq --enable-libzvbi --enable-omx --enable-openal --enable-opengl --enable-sdl2 --enable-libdc1394 --enable-libdrm --enable-libiec61883 --enable-chromaprint --enable-frei0r --enable-libopencv --enable-libx264 --enable-shared\n",
            "  libavutil      55. 78.100 / 55. 78.100\n",
            "  libavcodec     57.107.100 / 57.107.100\n",
            "  libavformat    57. 83.100 / 57. 83.100\n",
            "  libavdevice    57. 10.100 / 57. 10.100\n",
            "  libavfilter     6.107.100 /  6.107.100\n",
            "  libavresample   3.  7.  0 /  3.  7.  0\n",
            "  libswscale      4.  8.100 /  4.  8.100\n",
            "  libswresample   2.  9.100 /  2.  9.100\n",
            "  libpostproc    54.  7.100 / 54.  7.100\n",
            "Input #0, mov,mp4,m4a,3gp,3g2,mj2, from '/content/drive/MyDrive/RC11SkillClass2022/OtherVideos/12.3clip3.mp4':\n",
            "  Metadata:\n",
            "    major_brand     : isom\n",
            "    minor_version   : 512\n",
            "    compatible_brands: isomiso2avc1mp41\n",
            "    creation_time   : 2022-12-07T13:10:40.000000Z\n",
            "    Hw              : 1\n",
            "                    : \n",
            "    bitRate         : 3600000\n",
            "                    : \n",
            "    com.apple.quicktime.artwork: {\"data\":{\"edittime\":193,\"infoStickerId\":\"\",\"musicId\":\"\",\"os\":\"windows\",\"product\":\"lv\",\"stickerId\":\"\",\"videoEffectId\":\"\",\"videoId\":\"cc7eaa97-c6b0-4522-9372-ca3ae67d4b94\",\"videoParams\":{\"be\":0,\"ef\":0,\"ft\":0,\"ma\":0,\"me\":0,\"mu\":0,\"re\":0,\"sp\":0,\"st\":0,\"te\":0,\"\n",
            "    maxrate         : 3600000\n",
            "                    : \n",
            "    te_is_reencode  : 1\n",
            "                    : \n",
            "    encoder         : Lavf58.76.100\n",
            "  Duration: 00:02:52.20, start: 0.000000, bitrate: 3739 kb/s\n",
            "    Stream #0:0(und): Video: h264 (Main) (avc1 / 0x31637661), yuv420p(tv, smpte170m), 854x480 [SAR 1:1 DAR 427:240], 3542 kb/s, 30.01 fps, 30 tbr, 15360 tbn, 60 tbc (default)\n",
            "    Metadata:\n",
            "      creation_time   : 2022-12-07T13:10:40.000000Z\n",
            "      handler_name    : VideoHandler\n",
            "    Stream #0:1(und): Audio: aac (LC) (mp4a / 0x6134706D), 44100 Hz, stereo, fltp, 192 kb/s (default)\n",
            "    Metadata:\n",
            "      creation_time   : 2022-12-07T13:10:40.000000Z\n",
            "      handler_name    : SoundHandler\n",
            "Stream mapping:\n",
            "  Stream #0:0 -> #0:0 (h264 (native) -> mjpeg (native))\n",
            "Press [q] to stop, [?] for help\n",
            "\u001b[1;34m[swscaler @ 0x55bf7e916000] \u001b[0m\u001b[0;33mdeprecated pixel format used, make sure you did set range correctly\n",
            "\u001b[0mOutput #0, image2, to 'tmp/image_%05d.jpg':\n",
            "  Metadata:\n",
            "    major_brand     : isom\n",
            "    minor_version   : 512\n",
            "    compatible_brands: isomiso2avc1mp41\n",
            "    te_is_reencode  : 1\n",
            "                    : \n",
            "    Hw              : 1\n",
            "                    : \n",
            "    bitRate         : 3600000\n",
            "                    : \n",
            "    com.apple.quicktime.artwork: {\"data\":{\"edittime\":193,\"infoStickerId\":\"\",\"musicId\":\"\",\"os\":\"windows\",\"product\":\"lv\",\"stickerId\":\"\",\"videoEffectId\":\"\",\"videoId\":\"cc7eaa97-c6b0-4522-9372-ca3ae67d4b94\",\"videoParams\":{\"be\":0,\"ef\":0,\"ft\":0,\"ma\":0,\"me\":0,\"mu\":0,\"re\":0,\"sp\":0,\"st\":0,\"te\":0,\"\n",
            "    maxrate         : 3600000\n",
            "                    : \n",
            "    encoder         : Lavf57.83.100\n",
            "    Stream #0:0(und): Video: mjpeg, yuvj420p(pc), 854x480 [SAR 1:1 DAR 427:240], q=2-31, 200 kb/s, 30 fps, 30 tbn, 30 tbc (default)\n",
            "    Metadata:\n",
            "      creation_time   : 2022-12-07T13:10:40.000000Z\n",
            "      handler_name    : VideoHandler\n",
            "      encoder         : Lavc57.107.100 mjpeg\n",
            "    Side data:\n",
            "      cpb: bitrate max/min/avg: 0/0/200000 buffer size: 0 vbv_delay: -1\n",
            "frame= 5166 fps=159 q=24.8 Lsize=N/A time=00:02:52.20 bitrate=N/A speed=5.31x    \n",
            "video:111637kB audio:0kB subtitle:0kB other streams:0kB global headers:0kB muxing overhead: unknown\n",
            "/usr/local/lib/python3.8/dist-packages/torch/utils/data/dataloader.py:563: UserWarning: This DataLoader will create 4 worker processes in total. Our suggested max number of worker in current system is 2, which is smaller than what this DataLoader is going to create. Please be aware that excessive worker creation might get DataLoader running slow or even freeze, lower the worker number to avoid potential slowness/freeze if necessary.\n",
            "  warnings.warn(_create_warning_msg(\n",
            "/content/video-classification-3d-cnn-pytorch/classify.py:25: UserWarning: volatile was removed and now has no effect. Use `with torch.no_grad():` instead.\n",
            "  inputs = Variable(inputs, volatile=True)\n",
            "/content/drive/MyDrive/RC11SkillClass2022/OtherVideos/12.3clip2.mp4\n",
            "ffmpeg version 3.4.11-0ubuntu0.1 Copyright (c) 2000-2022 the FFmpeg developers\n",
            "  built with gcc 7 (Ubuntu 7.5.0-3ubuntu1~18.04)\n",
            "  configuration: --prefix=/usr --extra-version=0ubuntu0.1 --toolchain=hardened --libdir=/usr/lib/x86_64-linux-gnu --incdir=/usr/include/x86_64-linux-gnu --enable-gpl --disable-stripping --enable-avresample --enable-avisynth --enable-gnutls --enable-ladspa --enable-libass --enable-libbluray --enable-libbs2b --enable-libcaca --enable-libcdio --enable-libflite --enable-libfontconfig --enable-libfreetype --enable-libfribidi --enable-libgme --enable-libgsm --enable-libmp3lame --enable-libmysofa --enable-libopenjpeg --enable-libopenmpt --enable-libopus --enable-libpulse --enable-librubberband --enable-librsvg --enable-libshine --enable-libsnappy --enable-libsoxr --enable-libspeex --enable-libssh --enable-libtheora --enable-libtwolame --enable-libvorbis --enable-libvpx --enable-libwavpack --enable-libwebp --enable-libx265 --enable-libxml2 --enable-libxvid --enable-libzmq --enable-libzvbi --enable-omx --enable-openal --enable-opengl --enable-sdl2 --enable-libdc1394 --enable-libdrm --enable-libiec61883 --enable-chromaprint --enable-frei0r --enable-libopencv --enable-libx264 --enable-shared\n",
            "  libavutil      55. 78.100 / 55. 78.100\n",
            "  libavcodec     57.107.100 / 57.107.100\n",
            "  libavformat    57. 83.100 / 57. 83.100\n",
            "  libavdevice    57. 10.100 / 57. 10.100\n",
            "  libavfilter     6.107.100 /  6.107.100\n",
            "  libavresample   3.  7.  0 /  3.  7.  0\n",
            "  libswscale      4.  8.100 /  4.  8.100\n",
            "  libswresample   2.  9.100 /  2.  9.100\n",
            "  libpostproc    54.  7.100 / 54.  7.100\n",
            "Input #0, mov,mp4,m4a,3gp,3g2,mj2, from '/content/drive/MyDrive/RC11SkillClass2022/OtherVideos/12.3clip2.mp4':\n",
            "  Metadata:\n",
            "    major_brand     : isom\n",
            "    minor_version   : 512\n",
            "    compatible_brands: isomiso2avc1mp41\n",
            "    creation_time   : 2022-12-03T20:46:01.000000Z\n",
            "    Hw              : 1\n",
            "                    : \n",
            "    bitRate         : 12800000\n",
            "                    : \n",
            "    com.apple.quicktime.artwork: {\"data\":{\"edittime\":437,\"infoStickerId\":\"\",\"musicId\":\"\",\"os\":\"windows\",\"product\":\"lv\",\"stickerId\":\"\",\"videoEffectId\":\"\",\"videoId\":\"3443e987-d68e-4374-972d-34239ac81349\",\"videoParams\":{\"be\":0,\"ef\":0,\"ft\":0,\"ma\":0,\"me\":0,\"mu\":0,\"re\":0,\"sp\":0,\"st\":0,\"te\":0,\"\n",
            "    maxrate         : 12800000\n",
            "                    : \n",
            "    te_is_reencode  : 1\n",
            "                    : \n",
            "    encoder         : Lavf58.76.100\n",
            "  Duration: 00:01:20.57, start: 0.000000, bitrate: 13432 kb/s\n",
            "    Stream #0:0(und): Video: h264 (Main) (avc1 / 0x31637661), yuv420p(tv, bt709), 1920x1080 [SAR 1:1 DAR 16:9], 13238 kb/s, 30.01 fps, 30 tbr, 15360 tbn, 60 tbc (default)\n",
            "    Metadata:\n",
            "      creation_time   : 2022-12-03T20:46:01.000000Z\n",
            "      handler_name    : VideoHandler\n",
            "    Stream #0:1(und): Audio: aac (LC) (mp4a / 0x6134706D), 44100 Hz, stereo, fltp, 192 kb/s (default)\n",
            "    Metadata:\n",
            "      creation_time   : 2022-12-03T20:46:01.000000Z\n",
            "      handler_name    : SoundHandler\n",
            "Stream mapping:\n",
            "  Stream #0:0 -> #0:0 (h264 (native) -> mjpeg (native))\n",
            "Press [q] to stop, [?] for help\n",
            "\u001b[1;34m[swscaler @ 0x55e41cada000] \u001b[0m\u001b[0;33mdeprecated pixel format used, make sure you did set range correctly\n",
            "\u001b[0mOutput #0, image2, to 'tmp/image_%05d.jpg':\n",
            "  Metadata:\n",
            "    major_brand     : isom\n",
            "    minor_version   : 512\n",
            "    compatible_brands: isomiso2avc1mp41\n",
            "    te_is_reencode  : 1\n",
            "                    : \n",
            "    Hw              : 1\n",
            "                    : \n",
            "    bitRate         : 12800000\n",
            "                    : \n",
            "    com.apple.quicktime.artwork: {\"data\":{\"edittime\":437,\"infoStickerId\":\"\",\"musicId\":\"\",\"os\":\"windows\",\"product\":\"lv\",\"stickerId\":\"\",\"videoEffectId\":\"\",\"videoId\":\"3443e987-d68e-4374-972d-34239ac81349\",\"videoParams\":{\"be\":0,\"ef\":0,\"ft\":0,\"ma\":0,\"me\":0,\"mu\":0,\"re\":0,\"sp\":0,\"st\":0,\"te\":0,\"\n",
            "    maxrate         : 12800000\n",
            "                    : \n",
            "    encoder         : Lavf57.83.100\n",
            "    Stream #0:0(und): Video: mjpeg, yuvj420p(pc), 1920x1080 [SAR 1:1 DAR 16:9], q=2-31, 200 kb/s, 30 fps, 30 tbn, 30 tbc (default)\n",
            "    Metadata:\n",
            "      creation_time   : 2022-12-03T20:46:01.000000Z\n",
            "      handler_name    : VideoHandler\n",
            "      encoder         : Lavc57.107.100 mjpeg\n",
            "    Side data:\n",
            "      cpb: bitrate max/min/avg: 0/0/200000 buffer size: 0 vbv_delay: -1\n",
            "frame= 2417 fps= 37 q=24.8 Lsize=N/A time=00:01:20.56 bitrate=N/A speed=1.23x    \n",
            "video:148928kB audio:0kB subtitle:0kB other streams:0kB global headers:0kB muxing overhead: unknown\n"
          ]
        }
      ],
      "source": [
        "!python main.py --input input_othervideos --video_root /content/drive/MyDrive/RC11SkillClass2022/OtherVideos --output /content/drive/MyDrive/RC11SkillClass2022/otherVideos.json --model /content/drive/MyDrive/RC11SkillClass2022/resnet-34-kinetics-cpu.pth --model_depth 34 --mode feature --resnet_shortcut A --no_cuda"
      ]
    },
    {
      "cell_type": "code",
      "execution_count": null,
      "metadata": {
        "id": "kQLZFKOLxqB-"
      },
      "outputs": [],
      "source": [
        "file1 = open('/content/drive/MyDrive/RC11SkillClass2022/output.json')\n",
        "featureSegments = json.load(file1)\n",
        "\n",
        "file2 = open('/content/drive/MyDrive/RC11SkillClass2022/otherVideos.json')\n",
        "videoSegments = json.load(file2)"
      ]
    },
    {
      "cell_type": "code",
      "execution_count": null,
      "metadata": {
        "id": "JxhpjpTux24e"
      },
      "outputs": [],
      "source": [
        "MyFeatures = []\n",
        "for s in featureSegments[0]['clips']:\n",
        "  MyFeatures.append(np.array(s['features']))  "
      ]
    },
    {
      "cell_type": "code",
      "execution_count": null,
      "metadata": {
        "colab": {
          "base_uri": "https://localhost:8080/"
        },
        "id": "X8hc_n2Px42D",
        "outputId": "c8ae3e5d-3208-4b22-cad0-fbec478c4eb2"
      },
      "outputs": [
        {
          "name": "stdout",
          "output_type": "stream",
          "text": [
            "Moviepy - Building video /content/drive/MyDrive/RC11SkillClass2022/VideosOut12.3clip3.mp4.mp4.\n",
            "MoviePy - Writing audio in VideosOut12.3clip3.mp4TEMP_MPY_wvf_snd.mp4\n"
          ]
        },
        {
          "name": "stderr",
          "output_type": "stream",
          "text": []
        },
        {
          "name": "stdout",
          "output_type": "stream",
          "text": [
            "MoviePy - Done.\n",
            "Moviepy - Writing video /content/drive/MyDrive/RC11SkillClass2022/VideosOut12.3clip3.mp4.mp4\n",
            "\n"
          ]
        },
        {
          "name": "stderr",
          "output_type": "stream",
          "text": []
        },
        {
          "name": "stdout",
          "output_type": "stream",
          "text": [
            "Moviepy - Done !\n",
            "Moviepy - video ready /content/drive/MyDrive/RC11SkillClass2022/VideosOut12.3clip3.mp4.mp4\n",
            "Moviepy - Building video /content/drive/MyDrive/RC11SkillClass2022/VideosOut12.3clip2.mp4.mp4.\n",
            "MoviePy - Writing audio in VideosOut12.3clip2.mp4TEMP_MPY_wvf_snd.mp4\n"
          ]
        },
        {
          "name": "stderr",
          "output_type": "stream",
          "text": []
        },
        {
          "name": "stdout",
          "output_type": "stream",
          "text": [
            "MoviePy - Done.\n",
            "Moviepy - Writing video /content/drive/MyDrive/RC11SkillClass2022/VideosOut12.3clip2.mp4.mp4\n",
            "\n"
          ]
        },
        {
          "name": "stderr",
          "output_type": "stream",
          "text": []
        },
        {
          "name": "stdout",
          "output_type": "stream",
          "text": [
            "Moviepy - Done !\n",
            "Moviepy - video ready /content/drive/MyDrive/RC11SkillClass2022/VideosOut12.3clip2.mp4.mp4\n"
          ]
        }
      ],
      "source": [
        "videoList = os.listdir(videos_root)\n",
        "\n",
        "for i in range(len(videoList)):\n",
        "\n",
        "  MyVideos = []\n",
        "  for s in videoSegments[i]['clips']:\n",
        "    MyVideos.append(np.array(s['features']))  \n",
        "\n",
        "  bestRangeStart = BestRS(MyVideos,MyFeatures)\n",
        "\n",
        "  OutputVideo = VideoFileClip(videos_root + '/' + videoList[i]) \n",
        "  tsfps = OutputVideo.fps\n",
        "  tsFrameLength = 1/tsfps\n",
        "\n",
        "  nrFrames = len(MyFeatures)*16\n",
        "  startFrame = bestRangeStart*16\n",
        "\n",
        "  startTime = startFrame*tsFrameLength\n",
        "  endTime = startTime+nrFrames*tsFrameLength\n",
        "\n",
        "  MatchedVideo = OutputVideo.subclip(startTime,endTime)\n",
        "\n",
        "  MatchedVideo.write_videofile('/content/drive/MyDrive/RC11SkillClass2022/VideosOut' + videoList[i] + '.mp4', audio_codec='aac')"
      ]
    },
    {
      "cell_type": "code",
      "execution_count": null,
      "metadata": {
        "colab": {
          "background_save": true,
          "base_uri": "https://localhost:8080/",
          "height": 1000
        },
        "id": "9ry7Xi1bx804",
        "outputId": "f6d5f457-87f2-4483-bc2d-d8ce8d47a269"
      },
      "outputs": [],
      "source": [
        "MatchedVideo.ipython_display()"
      ]
    }
  ],
  "metadata": {
    "colab": {
      "provenance": [],
      "mount_file_id": "1ThzKQW7q51kyW8ZF_9DiDaEG9HiVrjqa",
      "authorship_tag": "ABX9TyOyg503XRP1rSk7LY97utJH",
      "include_colab_link": true
    },
    "kernelspec": {
      "display_name": "Python 3",
      "name": "python3"
    },
    "language_info": {
      "name": "python"
    }
  },
  "nbformat": 4,
  "nbformat_minor": 0
}