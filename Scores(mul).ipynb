{
  "nbformat": 4,
  "nbformat_minor": 0,
  "metadata": {
    "colab": {
      "provenance": [],
      "mount_file_id": "1J8RIwnQOzAU3ovHEr9aTwBlXHz6FjHZq",
      "authorship_tag": "ABX9TyPW3XHp51QEmvoaM2rTad4p",
      "include_colab_link": true
    },
    "kernelspec": {
      "name": "python3",
      "display_name": "Python 3"
    },
    "language_info": {
      "name": "python"
    }
  },
  "cells": [
    {
      "cell_type": "markdown",
      "metadata": {
        "id": "view-in-github",
        "colab_type": "text"
      },
      "source": [
        "<a href=\"https://colab.research.google.com/github/RC11-SkillsClass2022-23/RuijiaXiong/blob/main/Scores(mul).ipynb\" target=\"_parent\"><img src=\"https://colab.research.google.com/assets/colab-badge.svg\" alt=\"Open In Colab\"/></a>"
      ]
    },
    {
      "cell_type": "code",
      "execution_count": 1,
      "metadata": {
        "colab": {
          "base_uri": "https://localhost:8080/"
        },
        "id": "qqXNJ3vO21Qo",
        "outputId": "88c7fb7c-4b20-4517-80d7-18f2ef9ff4ee"
      },
      "outputs": [
        {
          "output_type": "stream",
          "name": "stdout",
          "text": [
            "Looking in indexes: https://pypi.org/simple, https://us-python.pkg.dev/colab-wheels/public/simple/\n",
            "Requirement already satisfied: moviepy in /usr/local/lib/python3.8/dist-packages (0.2.3.5)\n",
            "Collecting moviepy\n",
            "  Downloading moviepy-1.0.3.tar.gz (388 kB)\n",
            "\u001b[K     |████████████████████████████████| 388 kB 6.2 MB/s \n",
            "\u001b[?25hRequirement already satisfied: decorator<5.0,>=4.0.2 in /usr/local/lib/python3.8/dist-packages (from moviepy) (4.4.2)\n",
            "Requirement already satisfied: tqdm<5.0,>=4.11.2 in /usr/local/lib/python3.8/dist-packages (from moviepy) (4.64.1)\n",
            "Requirement already satisfied: requests<3.0,>=2.8.1 in /usr/local/lib/python3.8/dist-packages (from moviepy) (2.23.0)\n",
            "Collecting proglog<=1.0.0\n",
            "  Downloading proglog-0.1.10-py3-none-any.whl (6.1 kB)\n",
            "Requirement already satisfied: numpy>=1.17.3 in /usr/local/lib/python3.8/dist-packages (from moviepy) (1.21.6)\n",
            "Requirement already satisfied: imageio<3.0,>=2.5 in /usr/local/lib/python3.8/dist-packages (from moviepy) (2.9.0)\n",
            "Collecting imageio_ffmpeg>=0.2.0\n",
            "  Downloading imageio_ffmpeg-0.4.7-py3-none-manylinux2010_x86_64.whl (26.9 MB)\n",
            "\u001b[K     |████████████████████████████████| 26.9 MB 6.9 MB/s \n",
            "\u001b[?25hRequirement already satisfied: pillow in /usr/local/lib/python3.8/dist-packages (from imageio<3.0,>=2.5->moviepy) (7.1.2)\n",
            "Requirement already satisfied: chardet<4,>=3.0.2 in /usr/local/lib/python3.8/dist-packages (from requests<3.0,>=2.8.1->moviepy) (3.0.4)\n",
            "Requirement already satisfied: certifi>=2017.4.17 in /usr/local/lib/python3.8/dist-packages (from requests<3.0,>=2.8.1->moviepy) (2022.9.24)\n",
            "Requirement already satisfied: idna<3,>=2.5 in /usr/local/lib/python3.8/dist-packages (from requests<3.0,>=2.8.1->moviepy) (2.10)\n",
            "Requirement already satisfied: urllib3!=1.25.0,!=1.25.1,<1.26,>=1.21.1 in /usr/local/lib/python3.8/dist-packages (from requests<3.0,>=2.8.1->moviepy) (1.24.3)\n",
            "Building wheels for collected packages: moviepy\n",
            "  Building wheel for moviepy (setup.py) ... \u001b[?25l\u001b[?25hdone\n",
            "  Created wheel for moviepy: filename=moviepy-1.0.3-py3-none-any.whl size=110742 sha256=19f6d97eef0747970d0aa2477ef16a2bf6c903716f990132b181bc7a84a980cb\n",
            "  Stored in directory: /root/.cache/pip/wheels/e4/a4/db/0368d3a04033da662e13926594b3a8cf1aa4ffeefe570cfac1\n",
            "Successfully built moviepy\n",
            "Installing collected packages: proglog, imageio-ffmpeg, moviepy\n",
            "  Attempting uninstall: moviepy\n",
            "    Found existing installation: moviepy 0.2.3.5\n",
            "    Uninstalling moviepy-0.2.3.5:\n",
            "      Successfully uninstalled moviepy-0.2.3.5\n",
            "Successfully installed imageio-ffmpeg-0.4.7 moviepy-1.0.3 proglog-0.1.10\n"
          ]
        }
      ],
      "source": [
        "!pip install --upgrade moviepy"
      ]
    },
    {
      "cell_type": "code",
      "source": [
        "! git clone https://github.com/kenshohara/video-classification-3d-cnn-pytorch.git"
      ],
      "metadata": {
        "colab": {
          "base_uri": "https://localhost:8080/"
        },
        "id": "UevlyQNf26lc",
        "outputId": "a32f3ffc-ad48-41de-c7f2-5edf065a354e"
      },
      "execution_count": 2,
      "outputs": [
        {
          "output_type": "stream",
          "name": "stdout",
          "text": [
            "Cloning into 'video-classification-3d-cnn-pytorch'...\n",
            "remote: Enumerating objects: 121, done.\u001b[K\n",
            "remote: Total 121 (delta 0), reused 0 (delta 0), pack-reused 121\u001b[K\n",
            "Receiving objects: 100% (121/121), 158.63 KiB | 19.83 MiB/s, done.\n",
            "Resolving deltas: 100% (63/63), done.\n"
          ]
        }
      ]
    },
    {
      "cell_type": "code",
      "source": [
        "%cd video-classification-3d-cnn-pytorch/"
      ],
      "metadata": {
        "colab": {
          "base_uri": "https://localhost:8080/"
        },
        "id": "wYZLPeci3DN-",
        "outputId": "0c81cddb-002e-4609-cf5c-197d21828471"
      },
      "execution_count": 3,
      "outputs": [
        {
          "output_type": "stream",
          "name": "stdout",
          "text": [
            "/content/video-classification-3d-cnn-pytorch\n"
          ]
        }
      ]
    },
    {
      "cell_type": "code",
      "source": [
        "import json\n",
        "import os\n",
        "from moviepy.editor import *\n",
        "from moviepy import *\n",
        "import numpy as np"
      ],
      "metadata": {
        "id": "eFSxaUCI3ICL"
      },
      "execution_count": 4,
      "outputs": []
    },
    {
      "cell_type": "code",
      "source": [
        "videos = os.listdir('/content/drive/MyDrive/RC11SkillClass2022/VideosToProcess1')\n",
        "\n",
        "with open('input', 'w') as inputfile:\n",
        "  for v in videos:\n",
        "    if v.split('.')[-1] == 'mp4':\n",
        "      inputfile.write(v+'\\n')"
      ],
      "metadata": {
        "id": "vI_Q1Dqj6Aiv"
      },
      "execution_count": 6,
      "outputs": []
    },
    {
      "cell_type": "code",
      "source": [
        "! python main.py --input input --video_root /content/drive/MyDrive/RC11SkillClass2022/VideosToProcess1 --output /content/drive/MyDrive/RC11SkillClass2022/score.json --model /content/drive/MyDrive/RC11SkillClass2022/resnet-34-kinetics-cpu.pth --model_depth 34 --no_cuda --mode score --resnet_shortcut A"
      ],
      "metadata": {
        "colab": {
          "base_uri": "https://localhost:8080/"
        },
        "id": "XbINC5UN6Wdf",
        "outputId": "9ee90a53-d5f7-4652-e20d-95291b511d54"
      },
      "execution_count": 7,
      "outputs": [
        {
          "output_type": "stream",
          "name": "stdout",
          "text": [
            "loading model /content/drive/MyDrive/RC11SkillClass2022/resnet-34-kinetics-cpu.pth\n",
            "/content/drive/MyDrive/RC11SkillClass2022/VideosToProcess1/istanbul.mp4\n",
            "ffmpeg version 3.4.11-0ubuntu0.1 Copyright (c) 2000-2022 the FFmpeg developers\n",
            "  built with gcc 7 (Ubuntu 7.5.0-3ubuntu1~18.04)\n",
            "  configuration: --prefix=/usr --extra-version=0ubuntu0.1 --toolchain=hardened --libdir=/usr/lib/x86_64-linux-gnu --incdir=/usr/include/x86_64-linux-gnu --enable-gpl --disable-stripping --enable-avresample --enable-avisynth --enable-gnutls --enable-ladspa --enable-libass --enable-libbluray --enable-libbs2b --enable-libcaca --enable-libcdio --enable-libflite --enable-libfontconfig --enable-libfreetype --enable-libfribidi --enable-libgme --enable-libgsm --enable-libmp3lame --enable-libmysofa --enable-libopenjpeg --enable-libopenmpt --enable-libopus --enable-libpulse --enable-librubberband --enable-librsvg --enable-libshine --enable-libsnappy --enable-libsoxr --enable-libspeex --enable-libssh --enable-libtheora --enable-libtwolame --enable-libvorbis --enable-libvpx --enable-libwavpack --enable-libwebp --enable-libx265 --enable-libxml2 --enable-libxvid --enable-libzmq --enable-libzvbi --enable-omx --enable-openal --enable-opengl --enable-sdl2 --enable-libdc1394 --enable-libdrm --enable-libiec61883 --enable-chromaprint --enable-frei0r --enable-libopencv --enable-libx264 --enable-shared\n",
            "  libavutil      55. 78.100 / 55. 78.100\n",
            "  libavcodec     57.107.100 / 57.107.100\n",
            "  libavformat    57. 83.100 / 57. 83.100\n",
            "  libavdevice    57. 10.100 / 57. 10.100\n",
            "  libavfilter     6.107.100 /  6.107.100\n",
            "  libavresample   3.  7.  0 /  3.  7.  0\n",
            "  libswscale      4.  8.100 /  4.  8.100\n",
            "  libswresample   2.  9.100 /  2.  9.100\n",
            "  libpostproc    54.  7.100 / 54.  7.100\n",
            "Input #0, mov,mp4,m4a,3gp,3g2,mj2, from '/content/drive/MyDrive/RC11SkillClass2022/VideosToProcess1/istanbul.mp4':\n",
            "  Metadata:\n",
            "    major_brand     : isom\n",
            "    minor_version   : 512\n",
            "    compatible_brands: isomiso2avc1mp41\n",
            "    creation_time   : 2022-12-04T00:30:17.000000Z\n",
            "    Hw              : 1\n",
            "                    : \n",
            "    bitRate         : 8000000\n",
            "                    : \n",
            "    com.apple.quicktime.artwork: {\"data\":{\"edittime\":1202,\"infoStickerId\":\"\",\"musicId\":\"\",\"os\":\"windows\",\"product\":\"lv\",\"stickerId\":\"\",\"videoEffectId\":\"\",\"videoId\":\"c952e432-426d-445e-905c-8d8515e0837d\",\"videoParams\":{\"be\":0,\"ef\":0,\"ft\":0,\"ma\":0,\"me\":0,\"mu\":0,\"re\":0,\"sp\":0,\"st\":0,\"te\":0,\n",
            "    maxrate         : 8000000\n",
            "                    : \n",
            "    te_is_reencode  : 1\n",
            "                    : \n",
            "    encoder         : Lavf58.76.100\n",
            "  Duration: 00:00:39.47, start: 0.000000, bitrate: 8248 kb/s\n",
            "    Stream #0:0(und): Video: h264 (Main) (avc1 / 0x31637661), yuv420p(tv, bt709), 1280x720 [SAR 1:1 DAR 16:9], 8142 kb/s, 30.03 fps, 30 tbr, 15360 tbn, 60 tbc (default)\n",
            "    Metadata:\n",
            "      creation_time   : 2022-12-04T00:30:17.000000Z\n",
            "      handler_name    : VideoHandler\n",
            "    Stream #0:1(und): Audio: aac (LC) (mp4a / 0x6134706D), 44100 Hz, stereo, fltp, 106 kb/s (default)\n",
            "    Metadata:\n",
            "      creation_time   : 2022-12-04T00:30:17.000000Z\n",
            "      handler_name    : SoundHandler\n",
            "Stream mapping:\n",
            "  Stream #0:0 -> #0:0 (h264 (native) -> mjpeg (native))\n",
            "Press [q] to stop, [?] for help\n",
            "\u001b[1;34m[swscaler @ 0x55d079b46000] \u001b[0m\u001b[0;33mdeprecated pixel format used, make sure you did set range correctly\n",
            "\u001b[0mOutput #0, image2, to 'tmp/image_%05d.jpg':\n",
            "  Metadata:\n",
            "    major_brand     : isom\n",
            "    minor_version   : 512\n",
            "    compatible_brands: isomiso2avc1mp41\n",
            "    te_is_reencode  : 1\n",
            "                    : \n",
            "    Hw              : 1\n",
            "                    : \n",
            "    bitRate         : 8000000\n",
            "                    : \n",
            "    com.apple.quicktime.artwork: {\"data\":{\"edittime\":1202,\"infoStickerId\":\"\",\"musicId\":\"\",\"os\":\"windows\",\"product\":\"lv\",\"stickerId\":\"\",\"videoEffectId\":\"\",\"videoId\":\"c952e432-426d-445e-905c-8d8515e0837d\",\"videoParams\":{\"be\":0,\"ef\":0,\"ft\":0,\"ma\":0,\"me\":0,\"mu\":0,\"re\":0,\"sp\":0,\"st\":0,\"te\":0,\n",
            "    maxrate         : 8000000\n",
            "                    : \n",
            "    encoder         : Lavf57.83.100\n",
            "    Stream #0:0(und): Video: mjpeg, yuvj420p(pc), 1280x720 [SAR 1:1 DAR 16:9], q=2-31, 200 kb/s, 30 fps, 30 tbn, 30 tbc (default)\n",
            "    Metadata:\n",
            "      creation_time   : 2022-12-04T00:30:17.000000Z\n",
            "      handler_name    : VideoHandler\n",
            "      encoder         : Lavc57.107.100 mjpeg\n",
            "    Side data:\n",
            "      cpb: bitrate max/min/avg: 0/0/200000 buffer size: 0 vbv_delay: -1\n",
            "frame= 1184 fps= 80 q=24.8 Lsize=N/A time=00:00:39.46 bitrate=N/A speed=2.68x    \n",
            "video:41580kB audio:0kB subtitle:0kB other streams:0kB global headers:0kB muxing overhead: unknown\n",
            "/usr/local/lib/python3.8/dist-packages/torch/utils/data/dataloader.py:563: UserWarning: This DataLoader will create 4 worker processes in total. Our suggested max number of worker in current system is 2, which is smaller than what this DataLoader is going to create. Please be aware that excessive worker creation might get DataLoader running slow or even freeze, lower the worker number to avoid potential slowness/freeze if necessary.\n",
            "  warnings.warn(_create_warning_msg(\n",
            "/content/video-classification-3d-cnn-pytorch/classify.py:25: UserWarning: volatile was removed and now has no effect. Use `with torch.no_grad():` instead.\n",
            "  inputs = Variable(inputs, volatile=True)\n",
            "/content/drive/MyDrive/RC11SkillClass2022/VideosToProcess1/vlog2.mp4\n",
            "ffmpeg version 3.4.11-0ubuntu0.1 Copyright (c) 2000-2022 the FFmpeg developers\n",
            "  built with gcc 7 (Ubuntu 7.5.0-3ubuntu1~18.04)\n",
            "  configuration: --prefix=/usr --extra-version=0ubuntu0.1 --toolchain=hardened --libdir=/usr/lib/x86_64-linux-gnu --incdir=/usr/include/x86_64-linux-gnu --enable-gpl --disable-stripping --enable-avresample --enable-avisynth --enable-gnutls --enable-ladspa --enable-libass --enable-libbluray --enable-libbs2b --enable-libcaca --enable-libcdio --enable-libflite --enable-libfontconfig --enable-libfreetype --enable-libfribidi --enable-libgme --enable-libgsm --enable-libmp3lame --enable-libmysofa --enable-libopenjpeg --enable-libopenmpt --enable-libopus --enable-libpulse --enable-librubberband --enable-librsvg --enable-libshine --enable-libsnappy --enable-libsoxr --enable-libspeex --enable-libssh --enable-libtheora --enable-libtwolame --enable-libvorbis --enable-libvpx --enable-libwavpack --enable-libwebp --enable-libx265 --enable-libxml2 --enable-libxvid --enable-libzmq --enable-libzvbi --enable-omx --enable-openal --enable-opengl --enable-sdl2 --enable-libdc1394 --enable-libdrm --enable-libiec61883 --enable-chromaprint --enable-frei0r --enable-libopencv --enable-libx264 --enable-shared\n",
            "  libavutil      55. 78.100 / 55. 78.100\n",
            "  libavcodec     57.107.100 / 57.107.100\n",
            "  libavformat    57. 83.100 / 57. 83.100\n",
            "  libavdevice    57. 10.100 / 57. 10.100\n",
            "  libavfilter     6.107.100 /  6.107.100\n",
            "  libavresample   3.  7.  0 /  3.  7.  0\n",
            "  libswscale      4.  8.100 /  4.  8.100\n",
            "  libswresample   2.  9.100 /  2.  9.100\n",
            "  libpostproc    54.  7.100 / 54.  7.100\n",
            "Input #0, mov,mp4,m4a,3gp,3g2,mj2, from '/content/drive/MyDrive/RC11SkillClass2022/VideosToProcess1/vlog2.mp4':\n",
            "  Metadata:\n",
            "    major_brand     : isom\n",
            "    minor_version   : 512\n",
            "    compatible_brands: isomiso2avc1mp41\n",
            "    creation_time   : 2022-12-07T13:10:40.000000Z\n",
            "    Hw              : 1\n",
            "                    : \n",
            "    bitRate         : 3600000\n",
            "                    : \n",
            "    com.apple.quicktime.artwork: {\"data\":{\"edittime\":193,\"infoStickerId\":\"\",\"musicId\":\"\",\"os\":\"windows\",\"product\":\"lv\",\"stickerId\":\"\",\"videoEffectId\":\"\",\"videoId\":\"cc7eaa97-c6b0-4522-9372-ca3ae67d4b94\",\"videoParams\":{\"be\":0,\"ef\":0,\"ft\":0,\"ma\":0,\"me\":0,\"mu\":0,\"re\":0,\"sp\":0,\"st\":0,\"te\":0,\"\n",
            "    maxrate         : 3600000\n",
            "                    : \n",
            "    te_is_reencode  : 1\n",
            "                    : \n",
            "    encoder         : Lavf58.76.100\n",
            "  Duration: 00:02:52.20, start: 0.000000, bitrate: 3739 kb/s\n",
            "    Stream #0:0(und): Video: h264 (Main) (avc1 / 0x31637661), yuv420p(tv, smpte170m), 854x480 [SAR 1:1 DAR 427:240], 3542 kb/s, 30.01 fps, 30 tbr, 15360 tbn, 60 tbc (default)\n",
            "    Metadata:\n",
            "      creation_time   : 2022-12-07T13:10:40.000000Z\n",
            "      handler_name    : VideoHandler\n",
            "    Stream #0:1(und): Audio: aac (LC) (mp4a / 0x6134706D), 44100 Hz, stereo, fltp, 192 kb/s (default)\n",
            "    Metadata:\n",
            "      creation_time   : 2022-12-07T13:10:40.000000Z\n",
            "      handler_name    : SoundHandler\n",
            "Stream mapping:\n",
            "  Stream #0:0 -> #0:0 (h264 (native) -> mjpeg (native))\n",
            "Press [q] to stop, [?] for help\n",
            "\u001b[1;34m[swscaler @ 0x55ab502b8000] \u001b[0m\u001b[0;33mdeprecated pixel format used, make sure you did set range correctly\n",
            "\u001b[0mOutput #0, image2, to 'tmp/image_%05d.jpg':\n",
            "  Metadata:\n",
            "    major_brand     : isom\n",
            "    minor_version   : 512\n",
            "    compatible_brands: isomiso2avc1mp41\n",
            "    te_is_reencode  : 1\n",
            "                    : \n",
            "    Hw              : 1\n",
            "                    : \n",
            "    bitRate         : 3600000\n",
            "                    : \n",
            "    com.apple.quicktime.artwork: {\"data\":{\"edittime\":193,\"infoStickerId\":\"\",\"musicId\":\"\",\"os\":\"windows\",\"product\":\"lv\",\"stickerId\":\"\",\"videoEffectId\":\"\",\"videoId\":\"cc7eaa97-c6b0-4522-9372-ca3ae67d4b94\",\"videoParams\":{\"be\":0,\"ef\":0,\"ft\":0,\"ma\":0,\"me\":0,\"mu\":0,\"re\":0,\"sp\":0,\"st\":0,\"te\":0,\"\n",
            "    maxrate         : 3600000\n",
            "                    : \n",
            "    encoder         : Lavf57.83.100\n",
            "    Stream #0:0(und): Video: mjpeg, yuvj420p(pc), 854x480 [SAR 1:1 DAR 427:240], q=2-31, 200 kb/s, 30 fps, 30 tbn, 30 tbc (default)\n",
            "    Metadata:\n",
            "      creation_time   : 2022-12-07T13:10:40.000000Z\n",
            "      handler_name    : VideoHandler\n",
            "      encoder         : Lavc57.107.100 mjpeg\n",
            "    Side data:\n",
            "      cpb: bitrate max/min/avg: 0/0/200000 buffer size: 0 vbv_delay: -1\n",
            "frame= 5166 fps=165 q=24.8 Lsize=N/A time=00:02:52.20 bitrate=N/A speed=5.51x    \n",
            "video:111637kB audio:0kB subtitle:0kB other streams:0kB global headers:0kB muxing overhead: unknown\n"
          ]
        }
      ]
    },
    {
      "cell_type": "code",
      "source": [
        "! python generate_result_video/generate_result_video.py /content/drive/MyDrive/RC11SkillClass2022/score.json /content/drive/MyDrive/RC11SkillClass2022/VideosToProcess1 /content/drive/MyDrive/RC11SkillClass2022/videos_pred class_names_list 5"
      ],
      "metadata": {
        "colab": {
          "base_uri": "https://localhost:8080/"
        },
        "id": "wCDdBeTN6-gB",
        "outputId": "75457662-8e7d-4510-d41c-de3129dfda0f"
      },
      "execution_count": 8,
      "outputs": [
        {
          "output_type": "stream",
          "name": "stdout",
          "text": [
            "/content/drive/MyDrive/RC11SkillClass2022/VideosToProcess1/istanbul.mp4\n",
            "ffmpeg version 3.4.11-0ubuntu0.1 Copyright (c) 2000-2022 the FFmpeg developers\n",
            "  built with gcc 7 (Ubuntu 7.5.0-3ubuntu1~18.04)\n",
            "  configuration: --prefix=/usr --extra-version=0ubuntu0.1 --toolchain=hardened --libdir=/usr/lib/x86_64-linux-gnu --incdir=/usr/include/x86_64-linux-gnu --enable-gpl --disable-stripping --enable-avresample --enable-avisynth --enable-gnutls --enable-ladspa --enable-libass --enable-libbluray --enable-libbs2b --enable-libcaca --enable-libcdio --enable-libflite --enable-libfontconfig --enable-libfreetype --enable-libfribidi --enable-libgme --enable-libgsm --enable-libmp3lame --enable-libmysofa --enable-libopenjpeg --enable-libopenmpt --enable-libopus --enable-libpulse --enable-librubberband --enable-librsvg --enable-libshine --enable-libsnappy --enable-libsoxr --enable-libspeex --enable-libssh --enable-libtheora --enable-libtwolame --enable-libvorbis --enable-libvpx --enable-libwavpack --enable-libwebp --enable-libx265 --enable-libxml2 --enable-libxvid --enable-libzmq --enable-libzvbi --enable-omx --enable-openal --enable-opengl --enable-sdl2 --enable-libdc1394 --enable-libdrm --enable-libiec61883 --enable-chromaprint --enable-frei0r --enable-libopencv --enable-libx264 --enable-shared\n",
            "  libavutil      55. 78.100 / 55. 78.100\n",
            "  libavcodec     57.107.100 / 57.107.100\n",
            "  libavformat    57. 83.100 / 57. 83.100\n",
            "  libavdevice    57. 10.100 / 57. 10.100\n",
            "  libavfilter     6.107.100 /  6.107.100\n",
            "  libavresample   3.  7.  0 /  3.  7.  0\n",
            "  libswscale      4.  8.100 /  4.  8.100\n",
            "  libswresample   2.  9.100 /  2.  9.100\n",
            "  libpostproc    54.  7.100 / 54.  7.100\n",
            "Input #0, mov,mp4,m4a,3gp,3g2,mj2, from '/content/drive/MyDrive/RC11SkillClass2022/VideosToProcess1/istanbul.mp4':\n",
            "  Metadata:\n",
            "    major_brand     : isom\n",
            "    minor_version   : 512\n",
            "    compatible_brands: isomiso2avc1mp41\n",
            "    creation_time   : 2022-12-04T00:30:17.000000Z\n",
            "    Hw              : 1\n",
            "                    : \n",
            "    bitRate         : 8000000\n",
            "                    : \n",
            "    com.apple.quicktime.artwork: {\"data\":{\"edittime\":1202,\"infoStickerId\":\"\",\"musicId\":\"\",\"os\":\"windows\",\"product\":\"lv\",\"stickerId\":\"\",\"videoEffectId\":\"\",\"videoId\":\"c952e432-426d-445e-905c-8d8515e0837d\",\"videoParams\":{\"be\":0,\"ef\":0,\"ft\":0,\"ma\":0,\"me\":0,\"mu\":0,\"re\":0,\"sp\":0,\"st\":0,\"te\":0,\n",
            "    maxrate         : 8000000\n",
            "                    : \n",
            "    te_is_reencode  : 1\n",
            "                    : \n",
            "    encoder         : Lavf58.76.100\n",
            "  Duration: 00:00:39.47, start: 0.000000, bitrate: 8248 kb/s\n",
            "    Stream #0:0(und): Video: h264 (Main) (avc1 / 0x31637661), yuv420p(tv, bt709), 1280x720 [SAR 1:1 DAR 16:9], 8142 kb/s, 30.03 fps, 30 tbr, 15360 tbn, 60 tbc (default)\n",
            "    Metadata:\n",
            "      creation_time   : 2022-12-04T00:30:17.000000Z\n",
            "      handler_name    : VideoHandler\n",
            "    Stream #0:1(und): Audio: aac (LC) (mp4a / 0x6134706D), 44100 Hz, stereo, fltp, 106 kb/s (default)\n",
            "    Metadata:\n",
            "      creation_time   : 2022-12-04T00:30:17.000000Z\n",
            "      handler_name    : SoundHandler\n",
            "Stream mapping:\n",
            "  Stream #0:0 -> #0:0 (h264 (native) -> mjpeg (native))\n",
            "Press [q] to stop, [?] for help\n",
            "\u001b[1;34m[swscaler @ 0x56157f6aa000] \u001b[0m\u001b[0;33mdeprecated pixel format used, make sure you did set range correctly\n",
            "\u001b[0mOutput #0, image2, to 'tmp/image_%05d.jpg':\n",
            "  Metadata:\n",
            "    major_brand     : isom\n",
            "    minor_version   : 512\n",
            "    compatible_brands: isomiso2avc1mp41\n",
            "    te_is_reencode  : 1\n",
            "                    : \n",
            "    Hw              : 1\n",
            "                    : \n",
            "    bitRate         : 8000000\n",
            "                    : \n",
            "    com.apple.quicktime.artwork: {\"data\":{\"edittime\":1202,\"infoStickerId\":\"\",\"musicId\":\"\",\"os\":\"windows\",\"product\":\"lv\",\"stickerId\":\"\",\"videoEffectId\":\"\",\"videoId\":\"c952e432-426d-445e-905c-8d8515e0837d\",\"videoParams\":{\"be\":0,\"ef\":0,\"ft\":0,\"ma\":0,\"me\":0,\"mu\":0,\"re\":0,\"sp\":0,\"st\":0,\"te\":0,\n",
            "    maxrate         : 8000000\n",
            "                    : \n",
            "    encoder         : Lavf57.83.100\n",
            "    Stream #0:0(und): Video: mjpeg, yuvj420p(pc), 1280x720 [SAR 1:1 DAR 16:9], q=2-31, 200 kb/s, 30 fps, 30 tbn, 30 tbc (default)\n",
            "    Metadata:\n",
            "      creation_time   : 2022-12-04T00:30:17.000000Z\n",
            "      handler_name    : VideoHandler\n",
            "      encoder         : Lavc57.107.100 mjpeg\n",
            "    Side data:\n",
            "      cpb: bitrate max/min/avg: 0/0/200000 buffer size: 0 vbv_delay: -1\n",
            "frame= 1184 fps= 80 q=24.8 Lsize=N/A time=00:00:39.46 bitrate=N/A speed=2.67x    \n",
            "video:41580kB audio:0kB subtitle:0kB other streams:0kB global headers:0kB muxing overhead: unknown\n",
            "ffmpeg version 3.4.11-0ubuntu0.1 Copyright (c) 2000-2022 the FFmpeg developers\n",
            "  built with gcc 7 (Ubuntu 7.5.0-3ubuntu1~18.04)\n",
            "  configuration: --prefix=/usr --extra-version=0ubuntu0.1 --toolchain=hardened --libdir=/usr/lib/x86_64-linux-gnu --incdir=/usr/include/x86_64-linux-gnu --enable-gpl --disable-stripping --enable-avresample --enable-avisynth --enable-gnutls --enable-ladspa --enable-libass --enable-libbluray --enable-libbs2b --enable-libcaca --enable-libcdio --enable-libflite --enable-libfontconfig --enable-libfreetype --enable-libfribidi --enable-libgme --enable-libgsm --enable-libmp3lame --enable-libmysofa --enable-libopenjpeg --enable-libopenmpt --enable-libopus --enable-libpulse --enable-librubberband --enable-librsvg --enable-libshine --enable-libsnappy --enable-libsoxr --enable-libspeex --enable-libssh --enable-libtheora --enable-libtwolame --enable-libvorbis --enable-libvpx --enable-libwavpack --enable-libwebp --enable-libx265 --enable-libxml2 --enable-libxvid --enable-libzmq --enable-libzvbi --enable-omx --enable-openal --enable-opengl --enable-sdl2 --enable-libdc1394 --enable-libdrm --enable-libiec61883 --enable-chromaprint --enable-frei0r --enable-libopencv --enable-libx264 --enable-shared\n",
            "  libavutil      55. 78.100 / 55. 78.100\n",
            "  libavcodec     57.107.100 / 57.107.100\n",
            "  libavformat    57. 83.100 / 57. 83.100\n",
            "  libavdevice    57. 10.100 / 57. 10.100\n",
            "  libavfilter     6.107.100 /  6.107.100\n",
            "  libavresample   3.  7.  0 /  3.  7.  0\n",
            "  libswscale      4.  8.100 /  4.  8.100\n",
            "  libswresample   2.  9.100 /  2.  9.100\n",
            "  libpostproc    54.  7.100 / 54.  7.100\n",
            "Input #0, image2, from 'tmp/image_%05d_pred.jpg':\n",
            "  Duration: 00:00:46.72, start: 0.000000, bitrate: N/A\n",
            "    Stream #0:0: Video: mjpeg, yuvj420p(pc, bt470bg/unknown/unknown), 1280x720 [SAR 1:1 DAR 16:9], 25 fps, 25 tbr, 25 tbn, 25 tbc\n",
            "Stream mapping:\n",
            "  Stream #0:0 -> #0:0 (mjpeg (native) -> h264 (libx264))\n",
            "Press [q] to stop, [?] for help\n",
            "\u001b[1;36m[libx264 @ 0x560b3b9afe00] \u001b[0musing SAR=1/1\n",
            "\u001b[1;36m[libx264 @ 0x560b3b9afe00] \u001b[0musing cpu capabilities: MMX2 SSE2Fast SSSE3 SSE4.2 AVX FMA3 BMI2 AVX2\n",
            "\u001b[1;36m[libx264 @ 0x560b3b9afe00] \u001b[0mprofile High, level 3.2\n",
            "\u001b[1;36m[libx264 @ 0x560b3b9afe00] \u001b[0m264 - core 152 r2854 e9a5903 - H.264/MPEG-4 AVC codec - Copyleft 2003-2017 - http://www.videolan.org/x264.html - options: cabac=1 ref=3 deblock=1:0:0 analyse=0x3:0x113 me=hex subme=7 psy=1 psy_rd=1.00:0.00 mixed_ref=1 me_range=16 chroma_me=1 trellis=1 8x8dct=1 cqm=0 deadzone=21,11 fast_pskip=1 chroma_qp_offset=-2 threads=3 lookahead_threads=1 sliced_threads=0 nr=0 decimate=1 interlaced=0 bluray_compat=0 constrained_intra=0 bframes=3 b_pyramid=2 b_adapt=1 b_bias=0 direct=1 weightb=1 open_gop=0 weightp=2 keyint=250 keyint_min=25 scenecut=40 intra_refresh=0 rc_lookahead=40 rc=abr mbtree=1 bitrate=1000 ratetol=1.0 qcomp=0.60 qpmin=0 qpmax=69 qpstep=4 ip_ratio=1.40 aq=1:1.00\n",
            "Output #0, mp4, to '/content/drive/MyDrive/RC11SkillClass2022/videos_pred/istanbul.mp4':\n",
            "  Metadata:\n",
            "    encoder         : Lavf57.83.100\n",
            "    Stream #0:0: Video: h264 (libx264) (avc1 / 0x31637661), yuvj420p(pc), 1280x720 [SAR 1:1 DAR 16:9], q=-1--1, 1000 kb/s, 30.05 fps, 19232 tbn, 30.05 tbc\n",
            "    Metadata:\n",
            "      encoder         : Lavc57.107.100 libx264\n",
            "    Side data:\n",
            "      cpb: bitrate max/min/avg: 0/0/1000000 buffer size: 0 vbv_delay: -1\n",
            "frame= 1168 fps= 27 q=-1.0 Lsize=    4831kB time=00:00:38.76 bitrate=1020.7kbits/s speed=0.902x    \n",
            "video:4818kB audio:0kB subtitle:0kB other streams:0kB global headers:0kB muxing overhead: 0.266658%\n",
            "\u001b[1;36m[libx264 @ 0x560b3b9afe00] \u001b[0mframe I:13    Avg QP:33.38  size: 30206\n",
            "\u001b[1;36m[libx264 @ 0x560b3b9afe00] \u001b[0mframe P:518   Avg QP:36.41  size:  6678\n",
            "\u001b[1;36m[libx264 @ 0x560b3b9afe00] \u001b[0mframe B:637   Avg QP:39.43  size:  1697\n",
            "\u001b[1;36m[libx264 @ 0x560b3b9afe00] \u001b[0mconsecutive B-frames: 23.3% 10.6%  4.1% 62.0%\n",
            "\u001b[1;36m[libx264 @ 0x560b3b9afe00] \u001b[0mmb I  I16..4: 20.4% 78.2%  1.4%\n",
            "\u001b[1;36m[libx264 @ 0x560b3b9afe00] \u001b[0mmb P  I16..4:  4.1% 14.7%  0.0%  P16..4: 17.9%  2.8%  1.6%  0.0%  0.0%    skip:58.8%\n",
            "\u001b[1;36m[libx264 @ 0x560b3b9afe00] \u001b[0mmb B  I16..4:  1.0%  3.1%  0.0%  B16..8: 18.9%  0.9%  0.1%  direct: 0.2%  skip:75.7%  L0:44.8% L1:53.5% BI: 1.7%\n",
            "\u001b[1;36m[libx264 @ 0x560b3b9afe00] \u001b[0mfinal ratefactor: 34.31\n",
            "\u001b[1;36m[libx264 @ 0x560b3b9afe00] \u001b[0m8x8 transform intra:77.5% inter:88.6%\n",
            "\u001b[1;36m[libx264 @ 0x560b3b9afe00] \u001b[0mcoded y,uvDC,uvAC intra: 47.5% 42.0% 1.6% inter: 3.5% 3.1% 0.1%\n",
            "\u001b[1;36m[libx264 @ 0x560b3b9afe00] \u001b[0mi16 v,h,dc,p: 33% 37% 24%  6%\n",
            "\u001b[1;36m[libx264 @ 0x560b3b9afe00] \u001b[0mi8 v,h,dc,ddl,ddr,vr,hd,vl,hu: 17% 16% 56%  2%  1%  1%  1%  1%  3%\n",
            "\u001b[1;36m[libx264 @ 0x560b3b9afe00] \u001b[0mi4 v,h,dc,ddl,ddr,vr,hd,vl,hu: 39% 26% 16%  3%  4%  4%  3%  3%  3%\n",
            "\u001b[1;36m[libx264 @ 0x560b3b9afe00] \u001b[0mi8c dc,h,v,p: 68% 16% 14%  1%\n",
            "\u001b[1;36m[libx264 @ 0x560b3b9afe00] \u001b[0mWeighted P-Frames: Y:1.5% UV:0.6%\n",
            "\u001b[1;36m[libx264 @ 0x560b3b9afe00] \u001b[0mref P L0: 69.5%  8.7% 16.8%  4.8%  0.1%\n",
            "\u001b[1;36m[libx264 @ 0x560b3b9afe00] \u001b[0mref B L0: 80.0% 16.7%  3.3%\n",
            "\u001b[1;36m[libx264 @ 0x560b3b9afe00] \u001b[0mref B L1: 93.2%  6.8%\n",
            "\u001b[1;36m[libx264 @ 0x560b3b9afe00] \u001b[0mkb/s:1015.23\n",
            "/content/drive/MyDrive/RC11SkillClass2022/VideosToProcess1/vlog2.mp4\n",
            "ffmpeg version 3.4.11-0ubuntu0.1 Copyright (c) 2000-2022 the FFmpeg developers\n",
            "  built with gcc 7 (Ubuntu 7.5.0-3ubuntu1~18.04)\n",
            "  configuration: --prefix=/usr --extra-version=0ubuntu0.1 --toolchain=hardened --libdir=/usr/lib/x86_64-linux-gnu --incdir=/usr/include/x86_64-linux-gnu --enable-gpl --disable-stripping --enable-avresample --enable-avisynth --enable-gnutls --enable-ladspa --enable-libass --enable-libbluray --enable-libbs2b --enable-libcaca --enable-libcdio --enable-libflite --enable-libfontconfig --enable-libfreetype --enable-libfribidi --enable-libgme --enable-libgsm --enable-libmp3lame --enable-libmysofa --enable-libopenjpeg --enable-libopenmpt --enable-libopus --enable-libpulse --enable-librubberband --enable-librsvg --enable-libshine --enable-libsnappy --enable-libsoxr --enable-libspeex --enable-libssh --enable-libtheora --enable-libtwolame --enable-libvorbis --enable-libvpx --enable-libwavpack --enable-libwebp --enable-libx265 --enable-libxml2 --enable-libxvid --enable-libzmq --enable-libzvbi --enable-omx --enable-openal --enable-opengl --enable-sdl2 --enable-libdc1394 --enable-libdrm --enable-libiec61883 --enable-chromaprint --enable-frei0r --enable-libopencv --enable-libx264 --enable-shared\n",
            "  libavutil      55. 78.100 / 55. 78.100\n",
            "  libavcodec     57.107.100 / 57.107.100\n",
            "  libavformat    57. 83.100 / 57. 83.100\n",
            "  libavdevice    57. 10.100 / 57. 10.100\n",
            "  libavfilter     6.107.100 /  6.107.100\n",
            "  libavresample   3.  7.  0 /  3.  7.  0\n",
            "  libswscale      4.  8.100 /  4.  8.100\n",
            "  libswresample   2.  9.100 /  2.  9.100\n",
            "  libpostproc    54.  7.100 / 54.  7.100\n",
            "Input #0, mov,mp4,m4a,3gp,3g2,mj2, from '/content/drive/MyDrive/RC11SkillClass2022/VideosToProcess1/vlog2.mp4':\n",
            "  Metadata:\n",
            "    major_brand     : isom\n",
            "    minor_version   : 512\n",
            "    compatible_brands: isomiso2avc1mp41\n",
            "    creation_time   : 2022-12-07T13:10:40.000000Z\n",
            "    Hw              : 1\n",
            "                    : \n",
            "    bitRate         : 3600000\n",
            "                    : \n",
            "    com.apple.quicktime.artwork: {\"data\":{\"edittime\":193,\"infoStickerId\":\"\",\"musicId\":\"\",\"os\":\"windows\",\"product\":\"lv\",\"stickerId\":\"\",\"videoEffectId\":\"\",\"videoId\":\"cc7eaa97-c6b0-4522-9372-ca3ae67d4b94\",\"videoParams\":{\"be\":0,\"ef\":0,\"ft\":0,\"ma\":0,\"me\":0,\"mu\":0,\"re\":0,\"sp\":0,\"st\":0,\"te\":0,\"\n",
            "    maxrate         : 3600000\n",
            "                    : \n",
            "    te_is_reencode  : 1\n",
            "                    : \n",
            "    encoder         : Lavf58.76.100\n",
            "  Duration: 00:02:52.20, start: 0.000000, bitrate: 3739 kb/s\n",
            "    Stream #0:0(und): Video: h264 (Main) (avc1 / 0x31637661), yuv420p(tv, smpte170m), 854x480 [SAR 1:1 DAR 427:240], 3542 kb/s, 30.01 fps, 30 tbr, 15360 tbn, 60 tbc (default)\n",
            "    Metadata:\n",
            "      creation_time   : 2022-12-07T13:10:40.000000Z\n",
            "      handler_name    : VideoHandler\n",
            "    Stream #0:1(und): Audio: aac (LC) (mp4a / 0x6134706D), 44100 Hz, stereo, fltp, 192 kb/s (default)\n",
            "    Metadata:\n",
            "      creation_time   : 2022-12-07T13:10:40.000000Z\n",
            "      handler_name    : SoundHandler\n",
            "Stream mapping:\n",
            "  Stream #0:0 -> #0:0 (h264 (native) -> mjpeg (native))\n",
            "Press [q] to stop, [?] for help\n",
            "\u001b[1;34m[swscaler @ 0x55ad45a7e000] \u001b[0m\u001b[0;33mdeprecated pixel format used, make sure you did set range correctly\n",
            "\u001b[0mOutput #0, image2, to 'tmp/image_%05d.jpg':\n",
            "  Metadata:\n",
            "    major_brand     : isom\n",
            "    minor_version   : 512\n",
            "    compatible_brands: isomiso2avc1mp41\n",
            "    te_is_reencode  : 1\n",
            "                    : \n",
            "    Hw              : 1\n",
            "                    : \n",
            "    bitRate         : 3600000\n",
            "                    : \n",
            "    com.apple.quicktime.artwork: {\"data\":{\"edittime\":193,\"infoStickerId\":\"\",\"musicId\":\"\",\"os\":\"windows\",\"product\":\"lv\",\"stickerId\":\"\",\"videoEffectId\":\"\",\"videoId\":\"cc7eaa97-c6b0-4522-9372-ca3ae67d4b94\",\"videoParams\":{\"be\":0,\"ef\":0,\"ft\":0,\"ma\":0,\"me\":0,\"mu\":0,\"re\":0,\"sp\":0,\"st\":0,\"te\":0,\"\n",
            "    maxrate         : 3600000\n",
            "                    : \n",
            "    encoder         : Lavf57.83.100\n",
            "    Stream #0:0(und): Video: mjpeg, yuvj420p(pc), 854x480 [SAR 1:1 DAR 427:240], q=2-31, 200 kb/s, 30 fps, 30 tbn, 30 tbc (default)\n",
            "    Metadata:\n",
            "      creation_time   : 2022-12-07T13:10:40.000000Z\n",
            "      handler_name    : VideoHandler\n",
            "      encoder         : Lavc57.107.100 mjpeg\n",
            "    Side data:\n",
            "      cpb: bitrate max/min/avg: 0/0/200000 buffer size: 0 vbv_delay: -1\n",
            "frame= 5166 fps=168 q=24.8 Lsize=N/A time=00:02:52.20 bitrate=N/A speed=5.61x    \n",
            "video:111637kB audio:0kB subtitle:0kB other streams:0kB global headers:0kB muxing overhead: unknown\n",
            "ffmpeg version 3.4.11-0ubuntu0.1 Copyright (c) 2000-2022 the FFmpeg developers\n",
            "  built with gcc 7 (Ubuntu 7.5.0-3ubuntu1~18.04)\n",
            "  configuration: --prefix=/usr --extra-version=0ubuntu0.1 --toolchain=hardened --libdir=/usr/lib/x86_64-linux-gnu --incdir=/usr/include/x86_64-linux-gnu --enable-gpl --disable-stripping --enable-avresample --enable-avisynth --enable-gnutls --enable-ladspa --enable-libass --enable-libbluray --enable-libbs2b --enable-libcaca --enable-libcdio --enable-libflite --enable-libfontconfig --enable-libfreetype --enable-libfribidi --enable-libgme --enable-libgsm --enable-libmp3lame --enable-libmysofa --enable-libopenjpeg --enable-libopenmpt --enable-libopus --enable-libpulse --enable-librubberband --enable-librsvg --enable-libshine --enable-libsnappy --enable-libsoxr --enable-libspeex --enable-libssh --enable-libtheora --enable-libtwolame --enable-libvorbis --enable-libvpx --enable-libwavpack --enable-libwebp --enable-libx265 --enable-libxml2 --enable-libxvid --enable-libzmq --enable-libzvbi --enable-omx --enable-openal --enable-opengl --enable-sdl2 --enable-libdc1394 --enable-libdrm --enable-libiec61883 --enable-chromaprint --enable-frei0r --enable-libopencv --enable-libx264 --enable-shared\n",
            "  libavutil      55. 78.100 / 55. 78.100\n",
            "  libavcodec     57.107.100 / 57.107.100\n",
            "  libavformat    57. 83.100 / 57. 83.100\n",
            "  libavdevice    57. 10.100 / 57. 10.100\n",
            "  libavfilter     6.107.100 /  6.107.100\n",
            "  libavresample   3.  7.  0 /  3.  7.  0\n",
            "  libswscale      4.  8.100 /  4.  8.100\n",
            "  libswresample   2.  9.100 /  2.  9.100\n",
            "  libpostproc    54.  7.100 / 54.  7.100\n",
            "Input #0, image2, from 'tmp/image_%05d_pred.jpg':\n",
            "  Duration: 00:03:26.08, start: 0.000000, bitrate: N/A\n",
            "    Stream #0:0: Video: mjpeg, yuvj420p(pc, bt470bg/unknown/unknown), 854x480 [SAR 1:1 DAR 427:240], 25 fps, 25 tbr, 25 tbn, 25 tbc\n",
            "Stream mapping:\n",
            "  Stream #0:0 -> #0:0 (mjpeg (native) -> h264 (libx264))\n",
            "Press [q] to stop, [?] for help\n",
            "\u001b[1;36m[libx264 @ 0x562d592b7e00] \u001b[0musing SAR=1/1\n",
            "\u001b[1;36m[libx264 @ 0x562d592b7e00] \u001b[0musing cpu capabilities: MMX2 SSE2Fast SSSE3 SSE4.2 AVX FMA3 BMI2 AVX2\n",
            "\u001b[1;36m[libx264 @ 0x562d592b7e00] \u001b[0mprofile High, level 3.1\n",
            "\u001b[1;36m[libx264 @ 0x562d592b7e00] \u001b[0m264 - core 152 r2854 e9a5903 - H.264/MPEG-4 AVC codec - Copyleft 2003-2017 - http://www.videolan.org/x264.html - options: cabac=1 ref=3 deblock=1:0:0 analyse=0x3:0x113 me=hex subme=7 psy=1 psy_rd=1.00:0.00 mixed_ref=1 me_range=16 chroma_me=1 trellis=1 8x8dct=1 cqm=0 deadzone=21,11 fast_pskip=1 chroma_qp_offset=-2 threads=3 lookahead_threads=1 sliced_threads=0 nr=0 decimate=1 interlaced=0 bluray_compat=0 constrained_intra=0 bframes=3 b_pyramid=2 b_adapt=1 b_bias=0 direct=1 weightb=1 open_gop=0 weightp=2 keyint=250 keyint_min=25 scenecut=40 intra_refresh=0 rc_lookahead=40 rc=abr mbtree=1 bitrate=1000 ratetol=1.0 qcomp=0.60 qpmin=0 qpmax=69 qpstep=4 ip_ratio=1.40 aq=1:1.00\n",
            "Output #0, mp4, to '/content/drive/MyDrive/RC11SkillClass2022/videos_pred/vlog2.mp4':\n",
            "  Metadata:\n",
            "    encoder         : Lavf57.83.100\n",
            "    Stream #0:0: Video: h264 (libx264) (avc1 / 0x31637661), yuvj420p(pc), 854x480 [SAR 1:1 DAR 427:240], q=-1--1, 1000 kb/s, 30 fps, 15360 tbn, 30 tbc\n",
            "    Metadata:\n",
            "      encoder         : Lavc57.107.100 libx264\n",
            "    Side data:\n",
            "      cpb: bitrate max/min/avg: 0/0/1000000 buffer size: 0 vbv_delay: -1\n",
            "frame= 5152 fps= 42 q=-1.0 Lsize=   20591kB time=00:02:51.63 bitrate= 982.8kbits/s speed=1.39x    \n",
            "video:20531kB audio:0kB subtitle:0kB other streams:0kB global headers:0kB muxing overhead: 0.292319%\n",
            "\u001b[1;36m[libx264 @ 0x562d592b7e00] \u001b[0mframe I:26    Avg QP:31.80  size: 17991\n",
            "\u001b[1;36m[libx264 @ 0x562d592b7e00] \u001b[0mframe P:1744  Avg QP:35.42  size:  8797\n",
            "\u001b[1;36m[libx264 @ 0x562d592b7e00] \u001b[0mframe B:3382  Avg QP:38.99  size:  1542\n",
            "\u001b[1;36m[libx264 @ 0x562d592b7e00] \u001b[0mconsecutive B-frames:  5.7% 19.1%  4.0% 71.3%\n",
            "\u001b[1;36m[libx264 @ 0x562d592b7e00] \u001b[0mmb I  I16..4: 16.2% 82.2%  1.6%\n",
            "\u001b[1;36m[libx264 @ 0x562d592b7e00] \u001b[0mmb P  I16..4:  5.7% 29.3%  0.4%  P16..4: 23.6%  9.5%  5.9%  0.0%  0.0%    skip:25.7%\n",
            "\u001b[1;36m[libx264 @ 0x562d592b7e00] \u001b[0mmb B  I16..4:  1.1%  3.1%  0.0%  B16..8: 29.2%  3.0%  0.5%  direct: 0.9%  skip:62.2%  L0:52.4% L1:40.2% BI: 7.4%\n",
            "\u001b[1;36m[libx264 @ 0x562d592b7e00] \u001b[0mfinal ratefactor: 32.25\n",
            "\u001b[1;36m[libx264 @ 0x562d592b7e00] \u001b[0m8x8 transform intra:81.1% inter:79.7%\n",
            "\u001b[1;36m[libx264 @ 0x562d592b7e00] \u001b[0mcoded y,uvDC,uvAC intra: 56.4% 48.9% 3.6% inter: 8.2% 5.7% 0.3%\n",
            "\u001b[1;36m[libx264 @ 0x562d592b7e00] \u001b[0mi16 v,h,dc,p: 45% 26% 26%  3%\n",
            "\u001b[1;36m[libx264 @ 0x562d592b7e00] \u001b[0mi8 v,h,dc,ddl,ddr,vr,hd,vl,hu: 24% 17% 46%  2%  1%  2%  2%  2%  4%\n",
            "\u001b[1;36m[libx264 @ 0x562d592b7e00] \u001b[0mi4 v,h,dc,ddl,ddr,vr,hd,vl,hu: 45% 26% 16%  2%  2%  3%  3%  2%  2%\n",
            "\u001b[1;36m[libx264 @ 0x562d592b7e00] \u001b[0mi8c dc,h,v,p: 63% 16% 19%  2%\n",
            "\u001b[1;36m[libx264 @ 0x562d592b7e00] \u001b[0mWeighted P-Frames: Y:6.5% UV:2.5%\n",
            "\u001b[1;36m[libx264 @ 0x562d592b7e00] \u001b[0mref P L0: 61.2%  7.7% 23.3%  7.5%  0.3%\n",
            "\u001b[1;36m[libx264 @ 0x562d592b7e00] \u001b[0mref B L0: 86.8% 11.1%  2.1%\n",
            "\u001b[1;36m[libx264 @ 0x562d592b7e00] \u001b[0mref B L1: 96.9%  3.1%\n",
            "\u001b[1;36m[libx264 @ 0x562d592b7e00] \u001b[0mkb/s:979.34\n"
          ]
        }
      ]
    },
    {
      "cell_type": "code",
      "source": [
        "file = open('/content/drive/MyDrive/RC11SkillClass2022/score.json')\n",
        "segments = json.load(file)"
      ],
      "metadata": {
        "id": "XFqLUxls_Nnr"
      },
      "execution_count": 9,
      "outputs": []
    },
    {
      "cell_type": "code",
      "source": [
        "print(len(segments))"
      ],
      "metadata": {
        "colab": {
          "base_uri": "https://localhost:8080/"
        },
        "id": "uF_LSsPc_UdJ",
        "outputId": "68988f80-578b-4465-ab8f-78f23d313c75"
      },
      "execution_count": 10,
      "outputs": [
        {
          "output_type": "stream",
          "name": "stdout",
          "text": [
            "2\n"
          ]
        }
      ]
    },
    {
      "cell_type": "code",
      "source": [
        "segments[0].keys()"
      ],
      "metadata": {
        "colab": {
          "base_uri": "https://localhost:8080/"
        },
        "id": "ukWtEZWu_VN-",
        "outputId": "c35b835f-ea69-4aa5-85a7-58ab20703814"
      },
      "execution_count": 11,
      "outputs": [
        {
          "output_type": "execute_result",
          "data": {
            "text/plain": [
              "dict_keys(['video', 'clips'])"
            ]
          },
          "metadata": {},
          "execution_count": 11
        }
      ]
    },
    {
      "cell_type": "code",
      "source": [
        "segments[0]['video']"
      ],
      "metadata": {
        "colab": {
          "base_uri": "https://localhost:8080/",
          "height": 35
        },
        "id": "UtNCWnqZ_VS6",
        "outputId": "a9e8ac01-fd3e-4fc8-bd26-4a6be9426b32"
      },
      "execution_count": 20,
      "outputs": [
        {
          "output_type": "execute_result",
          "data": {
            "text/plain": [
              "'istanbul.mp4'"
            ],
            "application/vnd.google.colaboratory.intrinsic+json": {
              "type": "string"
            }
          },
          "metadata": {},
          "execution_count": 20
        }
      ]
    },
    {
      "cell_type": "code",
      "source": [
        "segments[1]['video']"
      ],
      "metadata": {
        "colab": {
          "base_uri": "https://localhost:8080/",
          "height": 35
        },
        "id": "kxpIRi_2BKTL",
        "outputId": "f348a2f4-0c92-4fb1-c4a2-9302da8c54f4"
      },
      "execution_count": 21,
      "outputs": [
        {
          "output_type": "execute_result",
          "data": {
            "text/plain": [
              "'vlog2.mp4'"
            ],
            "application/vnd.google.colaboratory.intrinsic+json": {
              "type": "string"
            }
          },
          "metadata": {},
          "execution_count": 21
        }
      ]
    },
    {
      "cell_type": "code",
      "source": [
        "segments[0]['clips'][0]['scores'][0]"
      ],
      "metadata": {
        "colab": {
          "base_uri": "https://localhost:8080/"
        },
        "id": "gD4XriYWBNJi",
        "outputId": "963ae91b-d51b-4baa-c711-e836d0103117"
      },
      "execution_count": 22,
      "outputs": [
        {
          "output_type": "execute_result",
          "data": {
            "text/plain": [
              "-0.9363354444503784"
            ]
          },
          "metadata": {},
          "execution_count": 22
        }
      ]
    },
    {
      "cell_type": "code",
      "source": [
        "segments[1]['clips'][0]['scores'][0]"
      ],
      "metadata": {
        "colab": {
          "base_uri": "https://localhost:8080/"
        },
        "id": "EwtOQOmFBQ5A",
        "outputId": "5d11860e-d0b8-47f8-8fb6-8e0fcffb1a55"
      },
      "execution_count": 23,
      "outputs": [
        {
          "output_type": "execute_result",
          "data": {
            "text/plain": [
              "0.2769584655761719"
            ]
          },
          "metadata": {},
          "execution_count": 23
        }
      ]
    },
    {
      "cell_type": "code",
      "source": [
        "segments[0]['clips'][0]['label']"
      ],
      "metadata": {
        "colab": {
          "base_uri": "https://localhost:8080/",
          "height": 35
        },
        "id": "uMOcSq-zBVpz",
        "outputId": "b468c3ca-b5ab-4bf0-d076-f3b5dc3caebc"
      },
      "execution_count": 24,
      "outputs": [
        {
          "output_type": "execute_result",
          "data": {
            "text/plain": [
              "'tai chi'"
            ],
            "application/vnd.google.colaboratory.intrinsic+json": {
              "type": "string"
            }
          },
          "metadata": {},
          "execution_count": 24
        }
      ]
    },
    {
      "cell_type": "code",
      "source": [
        "segments[1]['clips'][0]['label']"
      ],
      "metadata": {
        "colab": {
          "base_uri": "https://localhost:8080/",
          "height": 35
        },
        "id": "VAy4NxQWBWJv",
        "outputId": "a9e05a77-e68e-4648-d298-147df4f40dc1"
      },
      "execution_count": 25,
      "outputs": [
        {
          "output_type": "execute_result",
          "data": {
            "text/plain": [
              "'bowling'"
            ],
            "application/vnd.google.colaboratory.intrinsic+json": {
              "type": "string"
            }
          },
          "metadata": {},
          "execution_count": 25
        }
      ]
    },
    {
      "cell_type": "code",
      "source": [
        "classNames = []\n",
        "with open('class_names_list', 'r') as class_names_list:\n",
        "  index = 0\n",
        "  for c in class_names_list:\n",
        "    classNames.append({'index':index, 'name':c, 'score':0})\n",
        "    index += 1"
      ],
      "metadata": {
        "id": "726lXEByBoRe"
      },
      "execution_count": 93,
      "outputs": []
    },
    {
      "cell_type": "code",
      "source": [
        "classNames[0]"
      ],
      "metadata": {
        "colab": {
          "base_uri": "https://localhost:8080/"
        },
        "id": "eOEw2OfXBsOJ",
        "outputId": "a44f3b06-67df-49a6-d615-fbe0c8c30b9e"
      },
      "execution_count": 94,
      "outputs": [
        {
          "output_type": "execute_result",
          "data": {
            "text/plain": [
              "{'index': 0, 'name': 'abseiling\\n', 'score': 0}"
            ]
          },
          "metadata": {},
          "execution_count": 94
        }
      ]
    },
    {
      "cell_type": "code",
      "source": [
        "for i in range(len(segments[0]['clips'][0]['scores'])):\n",
        "  score = segments[0]['clips'][0]['scores'][i]\n",
        "  classNames[i]['score'] = score"
      ],
      "metadata": {
        "id": "uU9W3pHBB3Et"
      },
      "execution_count": 95,
      "outputs": []
    },
    {
      "cell_type": "code",
      "source": [
        "classNames.sort(key = lambda x : x['score'], reverse = True)"
      ],
      "metadata": {
        "id": "94OAJaRXB_t9"
      },
      "execution_count": 96,
      "outputs": []
    },
    {
      "cell_type": "code",
      "source": [
        "classNames[0]"
      ],
      "metadata": {
        "colab": {
          "base_uri": "https://localhost:8080/"
        },
        "id": "WJOlYqY4CA2T",
        "outputId": "8c730046-ae9a-44a9-9517-b50559065751"
      },
      "execution_count": 67,
      "outputs": [
        {
          "output_type": "execute_result",
          "data": {
            "text/plain": [
              "{'index': 346, 'name': 'tai chi\\n', 'score': 8.089552879333496}"
            ]
          },
          "metadata": {},
          "execution_count": 67
        }
      ]
    },
    {
      "cell_type": "code",
      "source": [
        "classNames2 = []\n",
        "with open('class_names_list', 'r') as class_names_list:\n",
        "  index = 0\n",
        "  for c in class_names_list:\n",
        "    classNames2.append({'index':index, 'name':c, 'score':0})\n",
        "    index += 1"
      ],
      "metadata": {
        "id": "xBggy3WrEmVw"
      },
      "execution_count": 97,
      "outputs": []
    },
    {
      "cell_type": "code",
      "source": [
        "for x in range(len(segments[1]['clips'][0]['scores'])):\n",
        "  score = segments[1]['clips'][0]['scores'][x]\n",
        "  classNames2[x]['score'] = score"
      ],
      "metadata": {
        "id": "JCmOk6oYEese"
      },
      "execution_count": 98,
      "outputs": []
    },
    {
      "cell_type": "code",
      "source": [
        "classNames2.sort(key = lambda x : x['score'], reverse = True)"
      ],
      "metadata": {
        "id": "PLIHmKYDH11P"
      },
      "execution_count": 101,
      "outputs": []
    },
    {
      "cell_type": "code",
      "source": [
        "classNames2[0]"
      ],
      "metadata": {
        "colab": {
          "base_uri": "https://localhost:8080/"
        },
        "id": "gWgxm3J6HxHW",
        "outputId": "686ec851-a277-4826-c867-d47ad4dc44be"
      },
      "execution_count": 102,
      "outputs": [
        {
          "output_type": "execute_result",
          "data": {
            "text/plain": [
              "{'index': 31, 'name': 'bowling\\n', 'score': 3.555176258087158}"
            ]
          },
          "metadata": {},
          "execution_count": 102
        }
      ]
    },
    {
      "cell_type": "code",
      "source": [],
      "metadata": {
        "id": "US4GOfHNH4zK"
      },
      "execution_count": null,
      "outputs": []
    },
    {
      "cell_type": "code",
      "source": [],
      "metadata": {
        "id": "3g6w985AH5DS"
      },
      "execution_count": null,
      "outputs": []
    },
    {
      "cell_type": "markdown",
      "source": [
        "function"
      ],
      "metadata": {
        "id": "ZnJl7hosH5v4"
      }
    },
    {
      "cell_type": "code",
      "source": [
        "def classNames(x,y):  \n",
        "  classNames = []\n",
        "  with open('class_names_list', 'r') as class_names_list:\n",
        "    index = 0\n",
        "    for c in class_names_list:\n",
        "      classNames.append({'index':index, 'name':c, 'score':0})\n",
        "      index += 1\n",
        "  classNames.sort(key = lambda x : x['score'], reverse = True)\n",
        "  return classNames"
      ],
      "metadata": {
        "id": "-9Vl-dskFk7O"
      },
      "execution_count": 86,
      "outputs": []
    },
    {
      "cell_type": "markdown",
      "source": [
        "don't know what to do next"
      ],
      "metadata": {
        "id": "ziaxlvFBH844"
      }
    },
    {
      "cell_type": "code",
      "source": [
        "label_periods = []\n",
        "for f in segments:\n",
        "  print(f['video'])\n",
        "  currentLabel = None\n",
        "  ts = 0\n",
        "  te = 0\n",
        "  for c in f['clips']:\n",
        "    label = c['label']\n",
        "    s = c['segment'][0]\n",
        "    e = c['segment'][1]\n",
        "    if label == currentLabel:\n",
        "      te = e \n",
        "    else:\n",
        "      label_periods.append([(ts,te),currentLabel])\n",
        "\n",
        "      ts = s\n",
        "      te = e \n",
        "      currentLabel = label"
      ],
      "metadata": {
        "colab": {
          "base_uri": "https://localhost:8080/"
        },
        "id": "R79kbBTVIAYq",
        "outputId": "31ca17e3-f120-4b46-c85f-7bcd9ff2f89c"
      },
      "execution_count": 103,
      "outputs": [
        {
          "output_type": "stream",
          "name": "stdout",
          "text": [
            "istanbul.mp4\n",
            "vlog2.mp4\n"
          ]
        }
      ]
    },
    {
      "cell_type": "code",
      "source": [
        "label_periods"
      ],
      "metadata": {
        "colab": {
          "base_uri": "https://localhost:8080/"
        },
        "id": "i_i7iiyfIbtj",
        "outputId": "56863037-a824-42c7-e41f-ef57683c0b7b"
      },
      "execution_count": 104,
      "outputs": [
        {
          "output_type": "execute_result",
          "data": {
            "text/plain": [
              "[[(0, 0), None],\n",
              " [(1, 32), 'tai chi'],\n",
              " [(33, 48), 'dancing ballet'],\n",
              " [(49, 64), 'robot dancing'],\n",
              " [(65, 80), 'skateboarding'],\n",
              " [(81, 112), 'busking'],\n",
              " [(113, 128), 'tai chi'],\n",
              " [(129, 144), 'playing basketball'],\n",
              " [(145, 176), 'jogging'],\n",
              " [(177, 192), 'dancing ballet'],\n",
              " [(193, 208), 'jogging'],\n",
              " [(209, 256), 'training dog'],\n",
              " [(257, 272), 'situp'],\n",
              " [(273, 336), 'petting cat'],\n",
              " [(337, 352), 'grooming dog'],\n",
              " [(353, 368), 'braiding hair'],\n",
              " [(369, 432), 'reading book'],\n",
              " [(433, 448), 'playing recorder'],\n",
              " [(449, 464), 'unboxing'],\n",
              " [(465, 528), 'reading book'],\n",
              " [(529, 544), 'building cabinet'],\n",
              " [(545, 624), 'reading book'],\n",
              " [(625, 640), 'welding'],\n",
              " [(641, 720), 'milking cow'],\n",
              " [(721, 816), 'archery'],\n",
              " [(817, 896), 'reading book'],\n",
              " [(897, 912), 'bookbinding'],\n",
              " [(913, 960), 'weaving basket'],\n",
              " [(961, 976), 'bowling'],\n",
              " [(977, 992), 'shooting basketball'],\n",
              " [(993, 1008), 'archery'],\n",
              " [(1009, 1056), 'tasting food'],\n",
              " [(1057, 1088), 'smoking'],\n",
              " [(1089, 1152), 'tasting food'],\n",
              " [(0, 0), None],\n",
              " [(1, 16), 'bowling'],\n",
              " [(17, 32), 'pumping gas'],\n",
              " [(33, 64), 'recording music'],\n",
              " [(65, 80), 'using remote controller (not gaming)'],\n",
              " [(81, 96), 'recording music'],\n",
              " [(97, 112), 'playing poker'],\n",
              " [(113, 160), 'giving or receiving award'],\n",
              " [(161, 192), 'driving car'],\n",
              " [(193, 208), 'checking tires'],\n",
              " [(209, 224), 'cleaning toilet'],\n",
              " [(225, 240), 'playing saxophone'],\n",
              " [(241, 256), 'skateboarding'],\n",
              " [(257, 272), 'busking'],\n",
              " [(273, 288), 'skateboarding'],\n",
              " [(289, 320), 'cleaning windows'],\n",
              " [(321, 336), 'skateboarding'],\n",
              " [(337, 352), 'busking'],\n",
              " [(353, 368), 'cleaning windows'],\n",
              " [(369, 448), 'skateboarding'],\n",
              " [(449, 464), 'playing bagpipes'],\n",
              " [(465, 560), 'skateboarding'],\n",
              " [(561, 576), 'motorcycling'],\n",
              " [(577, 592), 'busking'],\n",
              " [(593, 656), 'skateboarding'],\n",
              " [(657, 720), 'garbage collecting'],\n",
              " [(721, 736), 'busking'],\n",
              " [(737, 768), 'motorcycling'],\n",
              " [(769, 800), 'busking'],\n",
              " [(801, 816), 'parkour'],\n",
              " [(817, 848), 'skateboarding'],\n",
              " [(849, 864), 'busking'],\n",
              " [(865, 912), 'skateboarding'],\n",
              " [(913, 960), 'busking'],\n",
              " [(961, 992), 'skateboarding'],\n",
              " [(993, 1008), 'riding unicycle'],\n",
              " [(1009, 1120), 'skateboarding'],\n",
              " [(1121, 1136), 'mowing lawn'],\n",
              " [(1137, 1168), 'picking fruit'],\n",
              " [(1169, 1184), 'walking the dog'],\n",
              " [(1185, 1232), 'mowing lawn'],\n",
              " [(1233, 1280), 'jogging'],\n",
              " [(1281, 1296), 'riding mountain bike'],\n",
              " [(1297, 1312), 'riding a bike'],\n",
              " [(1313, 1328), 'jogging'],\n",
              " [(1329, 1344), 'riding scooter'],\n",
              " [(1345, 1376), 'mowing lawn'],\n",
              " [(1377, 1392), 'watering plants'],\n",
              " [(1393, 1408), 'riding a bike'],\n",
              " [(1409, 1424), 'garbage collecting'],\n",
              " [(1425, 1472), 'busking'],\n",
              " [(1473, 1488), 'playing bagpipes'],\n",
              " [(1489, 1504), 'motorcycling'],\n",
              " [(1505, 1520), 'garbage collecting'],\n",
              " [(1521, 1536), 'busking'],\n",
              " [(1537, 1552), 'garbage collecting'],\n",
              " [(1553, 1568), 'driving car'],\n",
              " [(1569, 1584), 'busking'],\n",
              " [(1585, 1600), 'playing bagpipes'],\n",
              " [(1601, 1648), 'busking'],\n",
              " [(1649, 1664), 'playing bagpipes'],\n",
              " [(1665, 1696), 'marching'],\n",
              " [(1697, 2192), 'busking'],\n",
              " [(2193, 2208), 'skateboarding'],\n",
              " [(2209, 2224), 'slacklining'],\n",
              " [(2225, 2256), 'busking'],\n",
              " [(2257, 2288), 'garbage collecting'],\n",
              " [(2289, 2304), 'busking'],\n",
              " [(2305, 2320), 'garbage collecting'],\n",
              " [(2321, 2336), 'busking'],\n",
              " [(2337, 2352), 'blowing glass'],\n",
              " [(2353, 2384), 'busking'],\n",
              " [(2385, 2400), 'garbage collecting'],\n",
              " [(2401, 2416), 'busking'],\n",
              " [(2417, 2480), 'garbage collecting'],\n",
              " [(2481, 2544), 'blowing glass'],\n",
              " [(2545, 2560), 'garbage collecting'],\n",
              " [(2561, 2640), 'blowing glass'],\n",
              " [(2641, 2768), 'busking'],\n",
              " [(2769, 2784), 'playing basketball'],\n",
              " [(2785, 2800), 'feeding birds'],\n",
              " [(2801, 2992), 'busking'],\n",
              " [(2993, 3008), 'feeding birds'],\n",
              " [(3009, 3056), 'contact juggling'],\n",
              " [(3057, 3072), 'feeding birds'],\n",
              " [(3073, 3120), 'playing volleyball'],\n",
              " [(3121, 3136), 'jogging'],\n",
              " [(3137, 3184), 'busking'],\n",
              " [(3185, 3200), 'skipping rope'],\n",
              " [(3201, 3216), 'playing volleyball'],\n",
              " [(3217, 3248), 'busking'],\n",
              " [(3249, 3264), 'playing volleyball'],\n",
              " [(3265, 3280), 'contact juggling'],\n",
              " [(3281, 3296), 'playing volleyball'],\n",
              " [(3297, 3312), 'feeding birds'],\n",
              " [(3313, 3344), 'laying bricks'],\n",
              " [(3345, 3360), 'playing chess'],\n",
              " [(3361, 3424), 'hopscotch'],\n",
              " [(3425, 3456), 'sweeping floor'],\n",
              " [(3457, 3472), 'hopscotch'],\n",
              " [(3473, 3504), 'playing chess'],\n",
              " [(3505, 3536), 'hopscotch'],\n",
              " [(3537, 3552), 'busking'],\n",
              " [(3553, 3568), 'playing didgeridoo'],\n",
              " [(3569, 3584), 'country line dancing'],\n",
              " [(3585, 3600), 'marching'],\n",
              " [(3601, 3632), 'skateboarding'],\n",
              " [(3633, 3648), 'playing bagpipes'],\n",
              " [(3649, 3728), 'busking'],\n",
              " [(3729, 3760), 'driving car'],\n",
              " [(3761, 3776), 'motorcycling'],\n",
              " [(3777, 3792), 'riding a bike'],\n",
              " [(3793, 3824), 'busking'],\n",
              " [(3825, 3840), 'sailing'],\n",
              " [(3841, 3888), 'busking'],\n",
              " [(3889, 3904), 'driving car'],\n",
              " [(3905, 3936), 'garbage collecting'],\n",
              " [(3937, 4080), 'busking'],\n",
              " [(4081, 4112), 'playing violin'],\n",
              " [(4113, 4144), 'busking'],\n",
              " [(4145, 4176), 'playing violin'],\n",
              " [(4177, 4224), 'busking'],\n",
              " [(4225, 4304), 'capoeira'],\n",
              " [(4305, 4320), 'playing violin'],\n",
              " [(4321, 4352), 'capoeira'],\n",
              " [(4353, 4384), 'busking'],\n",
              " [(4385, 4416), 'capoeira'],\n",
              " [(4417, 4448), 'busking'],\n",
              " [(4449, 4496), 'playing violin'],\n",
              " [(4497, 4528), 'busking'],\n",
              " [(4529, 4544), 'playing ukulele'],\n",
              " [(4545, 4560), 'capoeira'],\n",
              " [(4561, 4576), 'busking'],\n",
              " [(4577, 4704), 'capoeira'],\n",
              " [(4705, 4880), 'busking'],\n",
              " [(4881, 4912), 'capoeira']]"
            ]
          },
          "metadata": {},
          "execution_count": 104
        }
      ]
    },
    {
      "cell_type": "code",
      "source": [
        "video = VideoFileClip(r\"/content/drive/MyDrive/RC11SkillClass2022/VideosToProcess1/istanbul.mp4\")\n",
        "subVideo = video.subclip(7,11)\n",
        "subVideo.write_videofile(\"/content/drive/MyDrive/RC11SkillClass2022/VideosOutScore/istanbul.mp4\", audio_codec='aac')"
      ],
      "metadata": {
        "colab": {
          "base_uri": "https://localhost:8080/"
        },
        "id": "A5Kou9zLI3M_",
        "outputId": "168ceb96-16b7-424d-d9f8-c8bf8ba4f085"
      },
      "execution_count": 106,
      "outputs": [
        {
          "output_type": "stream",
          "name": "stdout",
          "text": [
            "Moviepy - Building video /content/drive/MyDrive/RC11SkillClass2022/VideosOutScore/istanbul.mp4.\n",
            "MoviePy - Writing audio in istanbulTEMP_MPY_wvf_snd.mp4\n"
          ]
        },
        {
          "output_type": "stream",
          "name": "stderr",
          "text": []
        },
        {
          "output_type": "stream",
          "name": "stdout",
          "text": [
            "MoviePy - Done.\n",
            "Moviepy - Writing video /content/drive/MyDrive/RC11SkillClass2022/VideosOutScore/istanbul.mp4\n",
            "\n"
          ]
        },
        {
          "output_type": "stream",
          "name": "stderr",
          "text": []
        },
        {
          "output_type": "stream",
          "name": "stdout",
          "text": [
            "Moviepy - Done !\n",
            "Moviepy - video ready /content/drive/MyDrive/RC11SkillClass2022/VideosOutScore/istanbul.mp4\n"
          ]
        }
      ]
    },
    {
      "cell_type": "code",
      "source": [
        "video = VideoFileClip(r\"/content/drive/MyDrive/RC11SkillClass2022/VideosToProcess1/vlog2.mp4\")\n",
        "subVideo2 = video.subclip(1,3)\n",
        "subVideo2.write_videofile(\"/content/drive/MyDrive/RC11SkillClass2022/VideosToProcess1/vlog2.mp4\", audio_codec='aac')"
      ],
      "metadata": {
        "colab": {
          "base_uri": "https://localhost:8080/"
        },
        "id": "A3yiWSCnI8vZ",
        "outputId": "8a70366c-49ec-4e0e-e4f0-298aa67fb724"
      },
      "execution_count": 110,
      "outputs": [
        {
          "output_type": "stream",
          "name": "stdout",
          "text": [
            "Moviepy - Building video /content/drive/MyDrive/RC11SkillClass2022/VideosToProcess1/vlog2.mp4.\n",
            "MoviePy - Writing audio in vlog2TEMP_MPY_wvf_snd.mp4\n"
          ]
        },
        {
          "output_type": "stream",
          "name": "stderr",
          "text": []
        },
        {
          "output_type": "stream",
          "name": "stdout",
          "text": [
            "MoviePy - Done.\n",
            "Moviepy - Writing video /content/drive/MyDrive/RC11SkillClass2022/VideosToProcess1/vlog2.mp4\n",
            "\n"
          ]
        },
        {
          "output_type": "stream",
          "name": "stderr",
          "text": [
            "t:  85%|████████▌ | 51/60 [00:00<00:00, 145.36it/s, now=None]WARNING:py.warnings:/usr/local/lib/python3.8/dist-packages/moviepy/video/io/ffmpeg_reader.py:123: UserWarning: Warning: in file /content/drive/MyDrive/RC11SkillClass2022/VideosToProcess1/vlog2.mp4, 1229760 bytes wanted but 0 bytes read,at frame 85/121, at time 2.83/4.02 sec. Using the last valid frame instead.\n",
            "  warnings.warn(\"Warning: in file %s, \"%(self.filename)+\n",
            "\n",
            "WARNING:py.warnings:/usr/local/lib/python3.8/dist-packages/moviepy/video/io/ffmpeg_reader.py:123: UserWarning: Warning: in file /content/drive/MyDrive/RC11SkillClass2022/VideosToProcess1/vlog2.mp4, 1229760 bytes wanted but 0 bytes read,at frame 86/121, at time 2.87/4.02 sec. Using the last valid frame instead.\n",
            "  warnings.warn(\"Warning: in file %s, \"%(self.filename)+\n",
            "\n",
            "WARNING:py.warnings:/usr/local/lib/python3.8/dist-packages/moviepy/video/io/ffmpeg_reader.py:123: UserWarning: Warning: in file /content/drive/MyDrive/RC11SkillClass2022/VideosToProcess1/vlog2.mp4, 1229760 bytes wanted but 0 bytes read,at frame 87/121, at time 2.90/4.02 sec. Using the last valid frame instead.\n",
            "  warnings.warn(\"Warning: in file %s, \"%(self.filename)+\n",
            "\n",
            "WARNING:py.warnings:/usr/local/lib/python3.8/dist-packages/moviepy/video/io/ffmpeg_reader.py:123: UserWarning: Warning: in file /content/drive/MyDrive/RC11SkillClass2022/VideosToProcess1/vlog2.mp4, 1229760 bytes wanted but 0 bytes read,at frame 88/121, at time 2.93/4.02 sec. Using the last valid frame instead.\n",
            "  warnings.warn(\"Warning: in file %s, \"%(self.filename)+\n",
            "\n",
            "WARNING:py.warnings:/usr/local/lib/python3.8/dist-packages/moviepy/video/io/ffmpeg_reader.py:123: UserWarning: Warning: in file /content/drive/MyDrive/RC11SkillClass2022/VideosToProcess1/vlog2.mp4, 1229760 bytes wanted but 0 bytes read,at frame 89/121, at time 2.97/4.02 sec. Using the last valid frame instead.\n",
            "  warnings.warn(\"Warning: in file %s, \"%(self.filename)+\n",
            "\n"
          ]
        },
        {
          "output_type": "stream",
          "name": "stdout",
          "text": [
            "Moviepy - Done !\n",
            "Moviepy - video ready /content/drive/MyDrive/RC11SkillClass2022/VideosToProcess1/vlog2.mp4\n"
          ]
        }
      ]
    }
  ]
}