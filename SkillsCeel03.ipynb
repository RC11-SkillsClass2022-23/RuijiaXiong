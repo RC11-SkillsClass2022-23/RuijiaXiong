{
 "cells": [
  {
   "cell_type": "code",
   "execution_count": 4,
   "id": "51a17981",
   "metadata": {},
   "outputs": [],
   "source": [
    "import numpy as np"
   ]
  },
  {
   "cell_type": "markdown",
   "id": "1e6e80d9",
   "metadata": {},
   "source": [
    "Numpy documentation: https://numpy.org/doc/stable/index.html\n",
    "\n",
    "ndarray: https://numpy.org/doc/stable/reference/arrays.ndarray.html\n",
    "\n",
    "Ways to create new arrays/matrices: https://numpy.org/doc/stable/reference/routines.array-creation.html\n",
    "\n",
    "basic array manipulation: https://numpy.org/doc/stable/reference/routines.array-manipulation.html"
   ]
  },
  {
   "cell_type": "markdown",
   "id": "4658abc9",
   "metadata": {},
   "source": [
    "# Exercise One\n",
    "\n",
    "## 1.1"
   ]
  },
  {
   "cell_type": "code",
   "execution_count": 9,
   "id": "72b146a2",
   "metadata": {},
   "outputs": [],
   "source": [
    "def SMM(A, B):\n",
    "    n = len(A)\n",
    "    C = np.zeros((n, n)) \n",
    "    \n",
    "    for i in range(n):\n",
    "        for j in range(n):\n",
    "            cij = 0\n",
    "            for z in range(n):\n",
    "                cij += A[i][z] * B[z][j]\n",
    "            C[i][j] = cij\n",
    "    return C"
   ]
  },
  {
   "cell_type": "markdown",
   "id": "5d2819f2",
   "metadata": {},
   "source": [
    "## 1.2"
   ]
  },
  {
   "cell_type": "code",
   "execution_count": 11,
   "id": "1aaf30ae",
   "metadata": {},
   "outputs": [],
   "source": [
    "# The time complexity of the coding is O(n^3)"
   ]
  },
  {
   "cell_type": "markdown",
   "id": "3dc7e2b7",
   "metadata": {},
   "source": [
    "# Exercise Two\n",
    "## 2.1"
   ]
  },
  {
   "cell_type": "markdown",
   "id": "11cf746f",
   "metadata": {},
   "source": [
    "Firstly, checking if the matrix size n is 1. If so, the algorithm performs a simple matrix multiplication operation and returns the resulting matrix C. Otherwise, the matrices A, B, and C are split into four sub-matrices of size n/2, denoted as A11, A12, A21, A22, B11, B12, B21, and B22, and a new matrix C is created.\n",
    "The algorithm then recursively calls itself to multiply each pair of sub-matrices from A and B, resulting in four sub-matrices C11, C12, C21, and C22. \n",
    "Finally, the sub-matrices C11, C12, C21, and C22 are combined to form the resulting matrix C\n",
    "\n",
    "The base case of the algorithm is when the matrix size n is 1. In this case, the algorithm performs a simple matrix multiplication operation, and the recursion stops. The recursive step of the algorithm reduces the problem size by a factor of 2, as each matrix is divided into four sub-matrices of size n/2. This ensures that the recursion eventually reaches the base case, where the matrices are small enough to be directly multiplied using the simple matrix multiplication operation."
   ]
  },
  {
   "cell_type": "markdown",
   "id": "d9de9b31",
   "metadata": {},
   "source": [
    "## 2.2"
   ]
  },
  {
   "cell_type": "markdown",
   "id": "0aedab7f",
   "metadata": {},
   "source": [
    "1.Base case:\n",
    "\n",
    "When the matrices A and B are both 1x1 matrices, the algorithm directly computes their product, which takes constant time. \n",
    "Therefore, the time complexity of the base case is O(1).\n",
    "\n",
    "2.Divide step:\n",
    "\n",
    "The divide step involves dividing the matrices A and B into four sub-matrices each, which takes O(n^2) time \n",
    "since it requires iterating over each element of the matrices. \n",
    "Therefore, the time complexity of the divide step is O(n^2).\n",
    "\n",
    "3.Conquer step:\n",
    "The conquer step involves recursively multiplying each pair of sub-matrices, which results in a total of 8 recursive calls. \n",
    "Each recursive call multiplies matrices of size n/2, and since each matrix multiplication takes O(n^3) time using the naive algorithm, \n",
    "the time complexity of the conquer step can be expressed by the recurrence relation T(n) = 8*T(n/2) + O(n^3). \n",
    "By applying the master theorem, we can see that the time complexity of the conquer step is O(n^3).\n",
    "\n",
    "4.Combine step:\n",
    "\n",
    "The combine step involves combining the resulting sub-matrices of C into the final matrix C using the combine_matrices function. \n",
    "This step takes O(n^2) time since it requires iterating over each element of the matrices. \n",
    "Therefore, the time complexity of the combine step is O(n^2).\n",
    "\n",
    "5.Putting it all together:\n",
    "\n",
    "The overall time complexity of the SMMRec algorithm can be expressed by the recurrence relation T(n) = 8*T(n/2) + O(n^3), \n",
    "where n is the size of the matrices. \n",
    "By applying the master theorem, we can see that the time complexity of the algorithm is O(n^3)."
   ]
  },
  {
   "cell_type": "markdown",
   "id": "6928230c",
   "metadata": {},
   "source": [
    "## 2.3"
   ]
  },
  {
   "cell_type": "code",
   "execution_count": 13,
   "id": "ef9a9048",
   "metadata": {},
   "outputs": [],
   "source": [
    "\n",
    "def SMMRec(A, B):\n",
    "    n = len(A)\n",
    "    C = np.zeros((n, n)) \n",
    "    \n",
    "    if n == 1:  # base case\n",
    "        C[0][0] = A[0][0] * B[0][0]\n",
    "    else:\n",
    "        # divide matrices into quarters\n",
    "        A11, A12, A21, A22 = split_matrix(A)\n",
    "        B11, B12, B21, B22 = split_matrix(B)\n",
    "\n",
    "        # recursively compute sub-matrices of C\n",
    "        C11 = add_matrices(SMMRec(A11, B11), SMMRec(A12, B21))\n",
    "        C12 = add_matrices(SMMRec(A11, B12), SMMRec(A12, B22))\n",
    "        C21 = add_matrices(SMMRec(A21, B11), SMMRec(A22, B21))\n",
    "        C22 = add_matrices(SMMRec(A21, B12), SMMRec(A22, B22))\n",
    "\n",
    "        # combine sub-matrices of C\n",
    "        C = combine_matrices(C11, C12, C21, C22)\n",
    "\n",
    "    return C"
   ]
  },
  {
   "cell_type": "markdown",
   "id": "1aa04150",
   "metadata": {},
   "source": [
    "{words here}"
   ]
  },
  {
   "cell_type": "markdown",
   "id": "f14dce2d",
   "metadata": {},
   "source": [
    "# Exercise Three"
   ]
  },
  {
   "cell_type": "markdown",
   "id": "cf276777",
   "metadata": {},
   "source": [
    "The Strassen algorithm is a divide-and-conquer algorithm that recursively multiplies two square matrices. In each recursive call, the matrices are divided into quarters until the base case is reached when the matrices are both 1x1.\n",
    "\n",
    "The complexity of the algorithm can be analyzed using the master theorem, which states that the complexity of a divide-and-conquer algorithm with a subproblem size of n/b, a number of subproblems of a, and a combine step of O(n^d) is:\n",
    "\n",
    "T(n) = aT(n/b) + O(n^d)\n",
    "\n",
    "In the case of the Strassen algorithm, the subproblem size is n/2 because the matrices are divided into quarters in each recursive call. The number of subproblems is 7 because there are 7 recursive calls to multiply submatrices. The combine step involves adding and subtracting matrices, which is O(n^2) because each element in the resulting matrix is the sum or difference of two elements in the input matrices.\n",
    "\n",
    "Using the master theorem, we can determine the complexity of the Strassen algorithm as follows:\n",
    "\n",
    "T(n) = 7T(n/2) + O(n^2)\n",
    "\n",
    "The algorithm performs 7 recursive calls to multiply submatrices of size n/2 x n/2. Each recursive call results in 10 additions or subtractions of matrices of size n/2 x n/2 and 18 multiplications of matrices of size n/2 x n/2. Therefore, the complexity of the algorithm can be expressed as:\n",
    "\n",
    "T(n) = 7T(n/2) + O(n^2)\n",
    "= 7(7T(n/4) + O(n^2)) + O(n^2)\n",
    "= 49T(n/4) + 7O(n^2)\n",
    "= 49(7T(n/8) + O(n^2)) + 7O(n^2)\n",
    "= 343T(n/8) + 49O(n^2)\n",
    "= ...\n",
    "= 7^log_2(n)T(1) + O(n^2 log(n))\n",
    "\n",
    "The final complexity is O(n^log_2(7)) or approximately O(n^2.81).\n",
    "\n",
    "Note that this is an improvement over the standard matrix multiplication algorithm, which has a complexity of O(n^3), but the Strassen algorithm is not always faster in practice due to its increased overhead and constant factors."
   ]
  },
  {
   "cell_type": "code",
   "execution_count": null,
   "id": "fa47c656",
   "metadata": {},
   "outputs": [],
   "source": []
  }
 ],
 "metadata": {
  "kernelspec": {
   "display_name": "Python 3 (ipykernel)",
   "language": "python",
   "name": "python3"
  },
  "language_info": {
   "codemirror_mode": {
    "name": "ipython",
    "version": 3
   },
   "file_extension": ".py",
   "mimetype": "text/x-python",
   "name": "python",
   "nbconvert_exporter": "python",
   "pygments_lexer": "ipython3",
   "version": "3.9.12"
  }
 },
 "nbformat": 4,
 "nbformat_minor": 5
}
